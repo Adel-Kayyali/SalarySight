{
  "cells": [
    {
      "cell_type": "markdown",
      "id": "21e04ec4",
      "metadata": {
        "id": "21e04ec4",
        "papermill": {
          "duration": 0.008308,
          "end_time": "2023-10-02T22:31:05.277090",
          "exception": false,
          "start_time": "2023-10-02T22:31:05.268782",
          "status": "completed"
        },
        "tags": []
      },
      "source": [
        "**Libraries**"
      ]
    },
    {
      "cell_type": "code",
      "execution_count": 71,
      "id": "bfcba3fc",
      "metadata": {
        "_cell_guid": "b1076dfc-b9ad-4769-8c92-a6c4dae69d19",
        "_uuid": "8f2839f25d086af736a60e9eeb907d3b93b6e0e5",
        "execution": {
          "iopub.execute_input": "2023-10-02T22:31:05.294794Z",
          "iopub.status.busy": "2023-10-02T22:31:05.294417Z",
          "iopub.status.idle": "2023-10-02T22:31:05.661660Z",
          "shell.execute_reply": "2023-10-02T22:31:05.660914Z"
        },
        "id": "bfcba3fc",
        "papermill": {
          "duration": 0.378608,
          "end_time": "2023-10-02T22:31:05.663700",
          "exception": false,
          "start_time": "2023-10-02T22:31:05.285092",
          "status": "completed"
        },
        "tags": []
      },
      "outputs": [],
      "source": [
        "import numpy as np\n",
        "import pandas as pd"
      ]
    },
    {
      "cell_type": "markdown",
      "id": "860caf75",
      "metadata": {
        "id": "860caf75",
        "papermill": {
          "duration": 0.007827,
          "end_time": "2023-10-02T22:31:05.679760",
          "exception": false,
          "start_time": "2023-10-02T22:31:05.671933",
          "status": "completed"
        },
        "tags": []
      },
      "source": [
        "**Loading up the dataset**"
      ]
    },
    {
      "cell_type": "code",
      "execution_count": 72,
      "id": "6213be60",
      "metadata": {
        "execution": {
          "iopub.execute_input": "2023-10-02T22:31:05.697856Z",
          "iopub.status.busy": "2023-10-02T22:31:05.697102Z",
          "iopub.status.idle": "2023-10-02T22:31:05.817039Z",
          "shell.execute_reply": "2023-10-02T22:31:05.816083Z"
        },
        "id": "6213be60",
        "papermill": {
          "duration": 0.131446,
          "end_time": "2023-10-02T22:31:05.819316",
          "exception": false,
          "start_time": "2023-10-02T22:31:05.687870",
          "status": "completed"
        },
        "tags": []
      },
      "outputs": [],
      "source": [
        "data2 = pd.read_csv(\"data\\glassdoor_jobs.csv\")"
      ]
    },
    {
      "cell_type": "markdown",
      "id": "HMAgMFHX56nu",
      "metadata": {
        "id": "HMAgMFHX56nu"
      },
      "source": [
        "---"
      ]
    },
    {
      "cell_type": "markdown",
      "id": "a2c75dd8",
      "metadata": {
        "id": "a2c75dd8",
        "papermill": {
          "duration": 0.007944,
          "end_time": "2023-10-02T22:31:05.836953",
          "exception": false,
          "start_time": "2023-10-02T22:31:05.829009",
          "status": "completed"
        },
        "tags": []
      },
      "source": [
        "# **Data Preparation**"
      ]
    },
    {
      "cell_type": "markdown",
      "id": "xkEnezDdoLsM",
      "metadata": {
        "id": "xkEnezDdoLsM"
      },
      "source": [
        "## **Features & Data Engineering**"
      ]
    },
    {
      "cell_type": "code",
      "execution_count": 73,
      "id": "843f6f1c",
      "metadata": {
        "colab": {
          "base_uri": "https://localhost:8080/"
        },
        "execution": {
          "iopub.execute_input": "2023-10-02T22:31:05.891564Z",
          "iopub.status.busy": "2023-10-02T22:31:05.890978Z",
          "iopub.status.idle": "2023-10-02T22:31:05.898776Z",
          "shell.execute_reply": "2023-10-02T22:31:05.897722Z"
        },
        "id": "843f6f1c",
        "outputId": "6483406c-52ba-42cd-fa05-db115f846ef7",
        "papermill": {
          "duration": 0.019242,
          "end_time": "2023-10-02T22:31:05.900740",
          "exception": false,
          "start_time": "2023-10-02T22:31:05.881498",
          "status": "completed"
        },
        "tags": []
      },
      "outputs": [
        {
          "data": {
            "text/plain": [
              "Unnamed: 0           0\n",
              "Job Title            0\n",
              "Salary Estimate      0\n",
              "Job Description      0\n",
              "Rating               0\n",
              "Company Name         0\n",
              "Location             0\n",
              "Headquarters         0\n",
              "Size                 0\n",
              "Founded              0\n",
              "Type of ownership    0\n",
              "Industry             0\n",
              "Sector               0\n",
              "Revenue              0\n",
              "Competitors          0\n",
              "dtype: int64"
            ]
          },
          "execution_count": 73,
          "metadata": {},
          "output_type": "execute_result"
        }
      ],
      "source": [
        "# Check for Missing values for the 'data2'\n",
        "data2.isnull().sum()"
      ]
    },
    {
      "cell_type": "markdown",
      "id": "9e789e79",
      "metadata": {
        "id": "9e789e79",
        "papermill": {
          "duration": 0.007893,
          "end_time": "2023-10-02T22:31:05.917053",
          "exception": false,
          "start_time": "2023-10-02T22:31:05.909160",
          "status": "completed"
        },
        "tags": []
      },
      "source": [
        "**Initial Exploratory Analysis**"
      ]
    },
    {
      "cell_type": "code",
      "execution_count": 74,
      "id": "364ee05c",
      "metadata": {
        "colab": {
          "base_uri": "https://localhost:8080/",
          "height": 501
        },
        "execution": {
          "iopub.execute_input": "2023-10-02T22:31:05.968850Z",
          "iopub.status.busy": "2023-10-02T22:31:05.968502Z",
          "iopub.status.idle": "2023-10-02T22:31:05.984557Z",
          "shell.execute_reply": "2023-10-02T22:31:05.983494Z"
        },
        "id": "364ee05c",
        "outputId": "84c8fb58-dede-4e77-a13e-b6680399135f",
        "papermill": {
          "duration": 0.027773,
          "end_time": "2023-10-02T22:31:05.986579",
          "exception": false,
          "start_time": "2023-10-02T22:31:05.958806",
          "status": "completed"
        },
        "tags": []
      },
      "outputs": [
        {
          "data": {
            "text/html": [
              "<div>\n",
              "<style scoped>\n",
              "    .dataframe tbody tr th:only-of-type {\n",
              "        vertical-align: middle;\n",
              "    }\n",
              "\n",
              "    .dataframe tbody tr th {\n",
              "        vertical-align: top;\n",
              "    }\n",
              "\n",
              "    .dataframe thead th {\n",
              "        text-align: right;\n",
              "    }\n",
              "</style>\n",
              "<table border=\"1\" class=\"dataframe\">\n",
              "  <thead>\n",
              "    <tr style=\"text-align: right;\">\n",
              "      <th></th>\n",
              "      <th>Unnamed: 0</th>\n",
              "      <th>Job Title</th>\n",
              "      <th>Salary Estimate</th>\n",
              "      <th>Job Description</th>\n",
              "      <th>Rating</th>\n",
              "      <th>Company Name</th>\n",
              "      <th>Location</th>\n",
              "      <th>Headquarters</th>\n",
              "      <th>Size</th>\n",
              "      <th>Founded</th>\n",
              "      <th>Type of ownership</th>\n",
              "      <th>Industry</th>\n",
              "      <th>Sector</th>\n",
              "      <th>Revenue</th>\n",
              "      <th>Competitors</th>\n",
              "    </tr>\n",
              "  </thead>\n",
              "  <tbody>\n",
              "    <tr>\n",
              "      <th>0</th>\n",
              "      <td>0</td>\n",
              "      <td>Data Scientist</td>\n",
              "      <td>$53K-$91K (Glassdoor est.)</td>\n",
              "      <td>Data Scientist\\nLocation: Albuquerque, NM\\nEdu...</td>\n",
              "      <td>3.8</td>\n",
              "      <td>Tecolote Research\\n3.8</td>\n",
              "      <td>Albuquerque, NM</td>\n",
              "      <td>Goleta, CA</td>\n",
              "      <td>501 to 1000 employees</td>\n",
              "      <td>1973</td>\n",
              "      <td>Company - Private</td>\n",
              "      <td>Aerospace &amp; Defense</td>\n",
              "      <td>Aerospace &amp; Defense</td>\n",
              "      <td>$50 to $100 million (USD)</td>\n",
              "      <td>-1</td>\n",
              "    </tr>\n",
              "    <tr>\n",
              "      <th>1</th>\n",
              "      <td>1</td>\n",
              "      <td>Healthcare Data Scientist</td>\n",
              "      <td>$63K-$112K (Glassdoor est.)</td>\n",
              "      <td>What You Will Do:\\n\\nI. General Summary\\n\\nThe...</td>\n",
              "      <td>3.4</td>\n",
              "      <td>University of Maryland Medical System\\n3.4</td>\n",
              "      <td>Linthicum, MD</td>\n",
              "      <td>Baltimore, MD</td>\n",
              "      <td>10000+ employees</td>\n",
              "      <td>1984</td>\n",
              "      <td>Other Organization</td>\n",
              "      <td>Health Care Services &amp; Hospitals</td>\n",
              "      <td>Health Care</td>\n",
              "      <td>$2 to $5 billion (USD)</td>\n",
              "      <td>-1</td>\n",
              "    </tr>\n",
              "    <tr>\n",
              "      <th>2</th>\n",
              "      <td>2</td>\n",
              "      <td>Data Scientist</td>\n",
              "      <td>$80K-$90K (Glassdoor est.)</td>\n",
              "      <td>KnowBe4, Inc. is a high growth information sec...</td>\n",
              "      <td>4.8</td>\n",
              "      <td>KnowBe4\\n4.8</td>\n",
              "      <td>Clearwater, FL</td>\n",
              "      <td>Clearwater, FL</td>\n",
              "      <td>501 to 1000 employees</td>\n",
              "      <td>2010</td>\n",
              "      <td>Company - Private</td>\n",
              "      <td>Security Services</td>\n",
              "      <td>Business Services</td>\n",
              "      <td>$100 to $500 million (USD)</td>\n",
              "      <td>-1</td>\n",
              "    </tr>\n",
              "    <tr>\n",
              "      <th>3</th>\n",
              "      <td>3</td>\n",
              "      <td>Data Scientist</td>\n",
              "      <td>$56K-$97K (Glassdoor est.)</td>\n",
              "      <td>*Organization and Job ID**\\nJob ID: 310709\\n\\n...</td>\n",
              "      <td>3.8</td>\n",
              "      <td>PNNL\\n3.8</td>\n",
              "      <td>Richland, WA</td>\n",
              "      <td>Richland, WA</td>\n",
              "      <td>1001 to 5000 employees</td>\n",
              "      <td>1965</td>\n",
              "      <td>Government</td>\n",
              "      <td>Energy</td>\n",
              "      <td>Oil, Gas, Energy &amp; Utilities</td>\n",
              "      <td>$500 million to $1 billion (USD)</td>\n",
              "      <td>Oak Ridge National Laboratory, National Renewa...</td>\n",
              "    </tr>\n",
              "    <tr>\n",
              "      <th>4</th>\n",
              "      <td>4</td>\n",
              "      <td>Data Scientist</td>\n",
              "      <td>$86K-$143K (Glassdoor est.)</td>\n",
              "      <td>Data Scientist\\nAffinity Solutions / Marketing...</td>\n",
              "      <td>2.9</td>\n",
              "      <td>Affinity Solutions\\n2.9</td>\n",
              "      <td>New York, NY</td>\n",
              "      <td>New York, NY</td>\n",
              "      <td>51 to 200 employees</td>\n",
              "      <td>1998</td>\n",
              "      <td>Company - Private</td>\n",
              "      <td>Advertising &amp; Marketing</td>\n",
              "      <td>Business Services</td>\n",
              "      <td>Unknown / Non-Applicable</td>\n",
              "      <td>Commerce Signals, Cardlytics, Yodlee</td>\n",
              "    </tr>\n",
              "  </tbody>\n",
              "</table>\n",
              "</div>"
            ],
            "text/plain": [
              "   Unnamed: 0                  Job Title              Salary Estimate   \n",
              "0           0             Data Scientist   $53K-$91K (Glassdoor est.)  \\\n",
              "1           1  Healthcare Data Scientist  $63K-$112K (Glassdoor est.)   \n",
              "2           2             Data Scientist   $80K-$90K (Glassdoor est.)   \n",
              "3           3             Data Scientist   $56K-$97K (Glassdoor est.)   \n",
              "4           4             Data Scientist  $86K-$143K (Glassdoor est.)   \n",
              "\n",
              "                                     Job Description  Rating   \n",
              "0  Data Scientist\\nLocation: Albuquerque, NM\\nEdu...     3.8  \\\n",
              "1  What You Will Do:\\n\\nI. General Summary\\n\\nThe...     3.4   \n",
              "2  KnowBe4, Inc. is a high growth information sec...     4.8   \n",
              "3  *Organization and Job ID**\\nJob ID: 310709\\n\\n...     3.8   \n",
              "4  Data Scientist\\nAffinity Solutions / Marketing...     2.9   \n",
              "\n",
              "                                 Company Name         Location   \n",
              "0                      Tecolote Research\\n3.8  Albuquerque, NM  \\\n",
              "1  University of Maryland Medical System\\n3.4    Linthicum, MD   \n",
              "2                                KnowBe4\\n4.8   Clearwater, FL   \n",
              "3                                   PNNL\\n3.8     Richland, WA   \n",
              "4                     Affinity Solutions\\n2.9     New York, NY   \n",
              "\n",
              "     Headquarters                    Size  Founded   Type of ownership   \n",
              "0      Goleta, CA   501 to 1000 employees     1973   Company - Private  \\\n",
              "1   Baltimore, MD        10000+ employees     1984  Other Organization   \n",
              "2  Clearwater, FL   501 to 1000 employees     2010   Company - Private   \n",
              "3    Richland, WA  1001 to 5000 employees     1965          Government   \n",
              "4    New York, NY     51 to 200 employees     1998   Company - Private   \n",
              "\n",
              "                           Industry                        Sector   \n",
              "0               Aerospace & Defense           Aerospace & Defense  \\\n",
              "1  Health Care Services & Hospitals                   Health Care   \n",
              "2                 Security Services             Business Services   \n",
              "3                            Energy  Oil, Gas, Energy & Utilities   \n",
              "4           Advertising & Marketing             Business Services   \n",
              "\n",
              "                            Revenue   \n",
              "0         $50 to $100 million (USD)  \\\n",
              "1            $2 to $5 billion (USD)   \n",
              "2        $100 to $500 million (USD)   \n",
              "3  $500 million to $1 billion (USD)   \n",
              "4          Unknown / Non-Applicable   \n",
              "\n",
              "                                         Competitors  \n",
              "0                                                 -1  \n",
              "1                                                 -1  \n",
              "2                                                 -1  \n",
              "3  Oak Ridge National Laboratory, National Renewa...  \n",
              "4               Commerce Signals, Cardlytics, Yodlee  "
            ]
          },
          "execution_count": 74,
          "metadata": {},
          "output_type": "execute_result"
        }
      ],
      "source": [
        "data2.head()"
      ]
    },
    {
      "cell_type": "code",
      "execution_count": 75,
      "id": "24cf7459",
      "metadata": {
        "colab": {
          "base_uri": "https://localhost:8080/"
        },
        "execution": {
          "iopub.execute_input": "2023-10-02T22:31:06.005566Z",
          "iopub.status.busy": "2023-10-02T22:31:06.005240Z",
          "iopub.status.idle": "2023-10-02T22:31:06.018011Z",
          "shell.execute_reply": "2023-10-02T22:31:06.016787Z"
        },
        "id": "24cf7459",
        "outputId": "41532ec0-bec9-4f83-894d-8e0d6c4fb79f",
        "papermill": {
          "duration": 0.025203,
          "end_time": "2023-10-02T22:31:06.020452",
          "exception": false,
          "start_time": "2023-10-02T22:31:05.995249",
          "status": "completed"
        },
        "tags": []
      },
      "outputs": [
        {
          "name": "stdout",
          "output_type": "stream",
          "text": [
            "\n",
            "Shape of data2: (939, 15)\n",
            "Column information for data2:\n",
            "          Column Name Data Type\n",
            "0          Unnamed: 0     int64\n",
            "1           Job Title    object\n",
            "2     Salary Estimate    object\n",
            "3     Job Description    object\n",
            "4              Rating   float64\n",
            "5        Company Name    object\n",
            "6            Location    object\n",
            "7        Headquarters    object\n",
            "8                Size    object\n",
            "9             Founded     int64\n",
            "10  Type of ownership    object\n",
            "11           Industry    object\n",
            "12             Sector    object\n",
            "13            Revenue    object\n",
            "14        Competitors    object\n"
          ]
        }
      ],
      "source": [
        "def get_shape_info(df):\n",
        "    shape_info = df.shape\n",
        "    column_info = df.dtypes.reset_index()\n",
        "    column_info.columns = ['Column Name', 'Data Type']\n",
        "    return shape_info, column_info\n",
        "\n",
        "\n",
        "data2_shape, data2_column_info = get_shape_info(data2)\n",
        "\n",
        "print(\"\\nShape of data2:\", data2_shape)\n",
        "print(\"Column information for data2:\")\n",
        "print(data2_column_info)"
      ]
    },
    {
      "cell_type": "code",
      "execution_count": 76,
      "id": "58f02376",
      "metadata": {
        "execution": {
          "iopub.execute_input": "2023-10-02T22:31:06.040191Z",
          "iopub.status.busy": "2023-10-02T22:31:06.039829Z",
          "iopub.status.idle": "2023-10-02T22:31:06.052531Z",
          "shell.execute_reply": "2023-10-02T22:31:06.051589Z"
        },
        "id": "58f02376",
        "papermill": {
          "duration": 0.025211,
          "end_time": "2023-10-02T22:31:06.054703",
          "exception": false,
          "start_time": "2023-10-02T22:31:06.029492",
          "status": "completed"
        },
        "tags": []
      },
      "outputs": [],
      "source": [
        "data2.drop('Unnamed: 0', axis=1, inplace=True)"
      ]
    },
    {
      "cell_type": "code",
      "execution_count": 77,
      "id": "01ed7b7e",
      "metadata": {
        "colab": {
          "base_uri": "https://localhost:8080/"
        },
        "execution": {
          "iopub.execute_input": "2023-10-02T22:31:06.130052Z",
          "iopub.status.busy": "2023-10-02T22:31:06.129653Z",
          "iopub.status.idle": "2023-10-02T22:31:06.156754Z",
          "shell.execute_reply": "2023-10-02T22:31:06.155700Z"
        },
        "id": "01ed7b7e",
        "outputId": "2d4f41f6-c161-4c78-866f-8df19c12e578",
        "papermill": {
          "duration": 0.094906,
          "end_time": "2023-10-02T22:31:06.158848",
          "exception": false,
          "start_time": "2023-10-02T22:31:06.063942",
          "status": "completed"
        },
        "tags": []
      },
      "outputs": [
        {
          "name": "stdout",
          "output_type": "stream",
          "text": [
            "<class 'pandas.core.frame.DataFrame'>\n",
            "RangeIndex: 939 entries, 0 to 938\n",
            "Data columns (total 14 columns):\n",
            " #   Column             Non-Null Count  Dtype  \n",
            "---  ------             --------------  -----  \n",
            " 0   Job Title          939 non-null    object \n",
            " 1   Salary Estimate    939 non-null    object \n",
            " 2   Job Description    939 non-null    object \n",
            " 3   Rating             939 non-null    float64\n",
            " 4   Company Name       939 non-null    object \n",
            " 5   Location           939 non-null    object \n",
            " 6   Headquarters       939 non-null    object \n",
            " 7   Size               939 non-null    object \n",
            " 8   Founded            939 non-null    int64  \n",
            " 9   Type of ownership  939 non-null    object \n",
            " 10  Industry           939 non-null    object \n",
            " 11  Sector             939 non-null    object \n",
            " 12  Revenue            939 non-null    object \n",
            " 13  Competitors        939 non-null    object \n",
            "dtypes: float64(1), int64(1), object(12)\n",
            "memory usage: 102.8+ KB\n"
          ]
        }
      ],
      "source": [
        "data2.info()"
      ]
    },
    {
      "cell_type": "markdown",
      "id": "PJY_XscJ87W5",
      "metadata": {
        "id": "PJY_XscJ87W5"
      },
      "source": [
        "---"
      ]
    },
    {
      "cell_type": "markdown",
      "id": "12iKk4paOGm-",
      "metadata": {
        "id": "12iKk4paOGm-"
      },
      "source": [
        "### **Job Title**"
      ]
    },
    {
      "cell_type": "markdown",
      "id": "85f89b06",
      "metadata": {
        "id": "85f89b06",
        "papermill": {
          "duration": 0.008685,
          "end_time": "2023-10-02T22:31:06.176557",
          "exception": false,
          "start_time": "2023-10-02T22:31:06.167872",
          "status": "completed"
        },
        "tags": []
      },
      "source": [
        "- What are the unique job titles in the dataset?\n",
        "\n"
      ]
    },
    {
      "cell_type": "code",
      "execution_count": 78,
      "id": "ce60282d",
      "metadata": {
        "colab": {
          "base_uri": "https://localhost:8080/"
        },
        "execution": {
          "iopub.execute_input": "2023-10-02T22:31:06.195870Z",
          "iopub.status.busy": "2023-10-02T22:31:06.195306Z",
          "iopub.status.idle": "2023-10-02T22:31:06.202526Z",
          "shell.execute_reply": "2023-10-02T22:31:06.201277Z"
        },
        "id": "ce60282d",
        "outputId": "addab012-8d88-428a-af3a-bc1cde18842d",
        "papermill": {
          "duration": 0.019974,
          "end_time": "2023-10-02T22:31:06.205310",
          "exception": false,
          "start_time": "2023-10-02T22:31:06.185336",
          "status": "completed"
        },
        "tags": []
      },
      "outputs": [
        {
          "data": {
            "text/plain": [
              "array(['Data Scientist', 'Healthcare Data Scientist',\n",
              "       'Research Scientist', 'Staff Data Scientist - Technology',\n",
              "       'Data Analyst', 'Data Engineer I', 'Scientist I/II, Biology',\n",
              "       'Customer Data Scientist',\n",
              "       'Data Scientist - Health Data Analytics',\n",
              "       'Senior Data Scientist / Machine Learning',\n",
              "       'Data Scientist - Quantitative', 'Digital Health Data Scientist',\n",
              "       'Associate Data Analyst', 'Clinical Data Scientist',\n",
              "       'Data Scientist / Machine Learning Expert', 'Web Data Analyst',\n",
              "       'Senior Data Scientist', 'Data Engineer',\n",
              "       'Data Scientist - Algorithms & Inference', 'Scientist',\n",
              "       'Data Science Analyst', 'Lead Data Scientist',\n",
              "       'Spectral Scientist/Engineer',\n",
              "       'College Hire - Data Scientist - Open to December 2019 Graduates',\n",
              "       'Data Scientist, Office of Data Science',\n",
              "       'Business Intelligence Analyst',\n",
              "       'Data Scientist in Artificial Intelligence Early Career',\n",
              "       'Data Scientist - Research', 'R&D Data Analysis Scientist',\n",
              "       'Analytics Consultant', 'Director, Data Science',\n",
              "       'Data Scientist SR', 'R&D Sr Data Scientist',\n",
              "       'Customer Data Scientist/Sales Engineer (Bay',\n",
              "       'Jr. Business Data Analyst', 'Data Management Specialist',\n",
              "       'Machine Learning Engineer', 'E-Commerce Data Analyst',\n",
              "       'Data Engineer Intern', 'Sr. Scientist II',\n",
              "       'Insurance Data Scientist', 'Data Scientist Analyst',\n",
              "       'Data Modeler', 'Data Analyst / Scientist',\n",
              "       'Scientist, Stem Cells and Genomics',\n",
              "       'Data Scientist, Rice University', 'Financial Data Analyst',\n",
              "       'Postdoc Scientist - T cell engineering', 'Senior Data Analyst',\n",
              "       'Ag Data Scientist', 'Principal Data Scientist',\n",
              "       'Data Platform Engineer', 'Chief Data Scientist',\n",
              "       'Data Scientist II', 'Senior Data Engineer', 'Project Scientist',\n",
              "       'Senior Data Scientist - AI Forecasting, Finance team',\n",
              "       'Data Analytics Manager',\n",
              "       'Senior Machine Learning (ML) Engineer / Data Scientist - Cyber Security Analytics',\n",
              "       'Weapons and Sensors Engineer/Scientist – Entry Level',\n",
              "       'Scientist 2, QC Viral Vector', 'Data Scientist/ML Engineer',\n",
              "       'Senior Scientist - Bioanalytical', 'Sr. Data Scientist',\n",
              "       'Scientist, Biomarker Science', 'Data Engineer 4 - Contract',\n",
              "       'Data Analyst - Asset Management',\n",
              "       'Senior Research Scientist - Embedded System Development for DevOps',\n",
              "       'Data Scientist - Bioinformatics',\n",
              "       'Customer Data Scientist/Sales Engineer', 'Data Analyst II',\n",
              "       'MongoDB Data Engineer II', 'Senior Data Scientist Statistics',\n",
              "       'Senior Analytical Scientist',\n",
              "       'Senior Spark Engineer (Data Science)',\n",
              "       'BI & Platform Analytics Manager',\n",
              "       'Sr. Data Scientist - Analytics, Personalized Healthcare (PHC)',\n",
              "       'Data Scientist (Active TS SCI with Polygraph)',\n",
              "       'Pricipal Scientist Molecular and cellular biologist',\n",
              "       'Data Scientist (Actuary, FSA or ASA)', 'Staff Data Scientist',\n",
              "       'Front-End, Back-End, Fullstack Developers & Data Scientist / Researchers - Cleared OR CLEARABLE (Up to 25% Profit Sharing Benefit!)',\n",
              "       'Data Engineer 5 - Contract (Remote)',\n",
              "       'Senior Scientist - Neuroscience',\n",
              "       'Senior Director Biometrics and Clinical Data Management',\n",
              "       'Medical Lab Scientist', 'Scientist, Analytical Development',\n",
              "       'Analytics Manager', 'Digital Marketing & ECommerce Data Analyst',\n",
              "       'Sr. Scientist - Digital & Image Analysis/Computational Pathology',\n",
              "       'Principal Scientist - Immunologist',\n",
              "       'Principal Data Scientist with over 10 years experience',\n",
              "       'MED TECH/LAB SCIENTIST - LABORATORY',\n",
              "       'Sr. Scientist, Quantitative Translational Sciences',\n",
              "       'Sr. Data Scientist II', 'Excel / VBA / SQL Data Analyst',\n",
              "       'Machine Learning Research Scientist', 'VP, Data Science',\n",
              "       'Radar Data Analyst', 'Quality Control Scientist',\n",
              "       'AWS Data Engineer', 'Deep Learning/Computer Vision Scientist',\n",
              "       'PV Scientist', 'Senior Data & Machine Learning Scientist',\n",
              "       'Principal Data Scientist (Computational Chemistry)',\n",
              "       'Data Systems Specialist 2',\n",
              "       'Principal Scientist, Chemistry & Immunology',\n",
              "       'Software Engineer - Data Visualization',\n",
              "       'Scientist/Senior Scientist, Autoimmune',\n",
              "       'Data Engineer 4 - Contract (Remote)',\n",
              "       'UX Data Scientist (Python)', 'Staff Machine Learning Engineer',\n",
              "       'Principal Scientist, Hematology', 'Lead Data Engineer',\n",
              "       'Pharmacovigilance Scientist (Senior Pharmacovigilance)',\n",
              "       'Data Science Manager', 'Marketing Data Analyst',\n",
              "       'Medical Laboratory Scientist', 'R&D Specialist/ Food Scientist',\n",
              "       'Senior Research Scientist-Machine Learning',\n",
              "       'Data Engineer with R', 'Analytics Manager - Data Mart',\n",
              "       'Sr. Data Engineer - Contract-to-Hire (Java)',\n",
              "       'MED TECH/LAB SCIENTIST- SOUTH COASTAL LAB',\n",
              "       'Food Scientist - Developer', 'Data Engineer 5 - Contract',\n",
              "       'Staff Scientist-Downstream Process Development',\n",
              "       'Sr. Data Engineer',\n",
              "       'Senior Research Statistician- Data Scientist',\n",
              "       'Business Data Analyst, SQL',\n",
              "       'Medical Technologist / Clinical Laboratory Scientist',\n",
              "       'ATL - Data & Analytics (DA)',\n",
              "       'Associate Data Scientist/Computer Scientist',\n",
              "       'Business Intelligence Analyst / Developer',\n",
              "       'System and Data Analyst', 'Data Science Intern',\n",
              "       'Environmental Scientist', 'Environmental Data Specialist',\n",
              "       'Data & Analytics Consultant (NYC)',\n",
              "       'Big Data Engineer - Chicago - Future Opportunity',\n",
              "       'Real World Evidence (RWE) Scientist', 'Survey Data Analyst',\n",
              "       'Data Scientist - Consultant - National',\n",
              "       'Lead Health Data Analyst - Front End', 'Junior Data Analyst',\n",
              "       'SQL Data Engineer',\n",
              "       'Sr. Data Scientist, Cyber-Security LT Contract',\n",
              "       'MSP - Data & Analytics (DA)', 'Insurance Financial Data Analyst',\n",
              "       'Data Engineer I - Azure', 'Information Security Data Analyst',\n",
              "       'Data Scientist, Senior', 'CONSULTANT– DATA ANALYTICS GROUP',\n",
              "       'Data Analyst Level III',\n",
              "       'Data Engineer, Data Engineering and Artifical Intelligence',\n",
              "       'Staff Scientist',\n",
              "       'Associate Scientist/Scientist, Process Analytical Technology - Small Molecule Analytical Chemistry',\n",
              "       'Sr. Data Analyst', 'Program/Data Analyst',\n",
              "       'Senior Data Scientist: Causal & Predictive analytics AI Innovation Lab',\n",
              "       'Health Data Analyst/Developer',\n",
              "       'Principal Data Engineer, Data Platform & Insights',\n",
              "       'RESEARCH SCIENTIST - BIOLOGICAL SAFETY', 'Data Operations Lead',\n",
              "       'Big Data Engineer', 'Clinical Data Analyst',\n",
              "       'Computational Chemist/Data Scientist', 'Market Data Analyst',\n",
              "       'Staff Data Engineer', 'Associate Data Engineer',\n",
              "       'Scientist – Cancer Drug Discovery', 'Staff BI and Data Engineer',\n",
              "       'Director - Data, Privacy and AI Governance',\n",
              "       'Scientist Manufacturing - Kentucky BioProcessing',\n",
              "       'Data Analytics Project Manager',\n",
              "       'Consultant - Analytics Consulting',\n",
              "       'Senior Scientist (Neuroscience)',\n",
              "       'Machine Learning Engineer - Regulatory',\n",
              "       'Scientist, Bacteriology',\n",
              "       'Associate Director, Platform and DevOps- Data Engineering and Aritifical Intelligence',\n",
              "       'Clinical Laboratory Scientist', 'Chief Data Officer',\n",
              "       'Head Data Scientist – NLP lead, Novartis AI Innovation Lab',\n",
              "       'Senior Data Scientist - R&D Oncology',\n",
              "       'Director II, Data Science - GRM Actuarial',\n",
              "       'Clinical Data Manager', 'Scientist, Molecular/Cellular Biologist',\n",
              "       'Scientist - Analytical Services',\n",
              "       'Associate Data Analyst- Graduate Development Program',\n",
              "       'Head Data Scientist – Image Analytics lead, Novartis AI Innovation Lab',\n",
              "       'Senior Insurance Data Scientist',\n",
              "       'Senior Data Science Systems Engineer',\n",
              "       'ENVIRONMENTAL ENGINEER/SCIENTIST',\n",
              "       'Scientist, Product Development',\n",
              "       'Senior Scientist - Regulatory Submissions',\n",
              "       'Scientist - Biomarker and Flow Cytometry',\n",
              "       'Revenue Analytics Manager',\n",
              "       'Associate Scientist, LC/MS Biologics',\n",
              "       'Sr. Scientist Method Development', 'IT - Data Engineer II',\n",
              "       'Research Scientist, Immunology - Cancer Biology',\n",
              "       'Project Scientist - Auton Lab, Robotics Institute',\n",
              "       'Staff Machine Learning Scientist, AI Foundation',\n",
              "       'Sr. Enterprise Account Exec- Data Science / ML - NYC',\n",
              "       'Enterprise Architect, Data', 'Advanced Analytics Manager',\n",
              "       'Corporate Risk Data Analyst (SQL Based) - Milwaukee or',\n",
              "       'Senior Imagery Scientist - SAR TO 11 #78 (TS/SCI)',\n",
              "       'Marketing Data Analyst, May 2020 Undergrad',\n",
              "       'Data Modeler - Data Solutions Engineer',\n",
              "       'Associate Environmental Scientist - Wildlife Biologist',\n",
              "       'Associate, Data Science, Internal Audit',\n",
              "       'Sr Data Engineer (Sr BI Developer)',\n",
              "       'Senior LiDAR Data Scientist', 'Salesforce Analytics Consultant',\n",
              "       'Technology-Minded, Data Professional Opportunities',\n",
              "       'Managing Data Scientist/ML Engineer',\n",
              "       'Scientist, Pharmacometrics', 'Staff Scientist- Upstream PD',\n",
              "       'Scientist Manufacturing Pharma - Kentucky BioProcessing',\n",
              "       'Senior Clinical Lab Scientist, Clinical Lab Svcs - FT/Nights (8hr)',\n",
              "       'Lead Big Data Engineer',\n",
              "       'Product Engineer – Spatial Data Science and Statistical Analysis',\n",
              "       'Sr Software Engineer (Data Scientist)',\n",
              "       'Sr. Data Engineer (ETL Developer)', 'Sr. Microsoft Data Engineer',\n",
              "       'Senior Data Scientist Artificial Intelligence',\n",
              "       'Scientist, Upstream Process Development (Bioreactors)',\n",
              "       'Diversity and Inclusion Data Analyst',\n",
              "       'Lab Head, Principle Scientist, Dupixent/Type 2 Inflammation & Fibrosis - Cambridge, MA',\n",
              "       'Analytics - Business Assurance Data Analyst',\n",
              "       'Associate Director/Director, Safety Scientist',\n",
              "       'Senior Scientist, Cell Pharmacology/Assay Development',\n",
              "       'Data Analyst Senior', 'Lead Data Engineer (Python)',\n",
              "       'Senior Data Scientist 4 Artificial Intelligence',\n",
              "       'Medical Lab Scientist - MLT',\n",
              "       'Senior Operations Data Analyst, Call Center Operations',\n",
              "       'Director II, Data Science - GRS Predictive Analytics',\n",
              "       'RESEARCH COMPUTER SCIENTIST - RESEARCH ENGINEER - SR. COMPUTER SCIENTIST - SOFTWARE DEVELOPMENT',\n",
              "       'Geospatial Software Developer and Data Scientist',\n",
              "       'Chief Scientist - Emerging Technology Center',\n",
              "       'Senior Scientist - Toxicologist - Product Integrity (Stewardship)',\n",
              "       'Senior Scientist Protein/Oligonucleotides',\n",
              "       'Systems Engineer II - Data Analyst',\n",
              "       'Senior Research Analytical Scientist-Non-Targeted Analysis',\n",
              "       'Director Data Science', 'Sr Data Analyst - IT',\n",
              "       'Senior Scientist, Logic Gated CAR T Cell Therapy',\n",
              "       'Associate Machine Learning Engineer / Data Scientist May 2020 Undergrad',\n",
              "       'Senior Scientist - Biostatistician',\n",
              "       'Principal Machine Learning Scientist', 'Sr. BI Data Engineer III',\n",
              "       'Data Analyst, Performance Partnership', 'Data Scientist Manager',\n",
              "       'Process Development Scientist',\n",
              "       'Software Data Engineer - College',\n",
              "       'Senior Data Scientist - Algorithms',\n",
              "       'Senior Data Scientist Oncology',\n",
              "       'Data Scientist - Alpha Insights',\n",
              "       'Data Scientist - Systems Engineering',\n",
              "       'Data Engineer - Consultant (Charlotte Based)',\n",
              "       'Data Analyst 1, full-time contract worker for up to 12 months',\n",
              "       'Scientist, Immuno-Oncology', 'Products Data Analyst II',\n",
              "       'Lead Data Analyst', 'Data Science Engineer - Mobile',\n",
              "       'Scientist - Analytical Development - Pharmaceutics',\n",
              "       'Sr Expert Data Science, Advanced Visual Analytics (Associate level)',\n",
              "       'IT Associate Data Analyst', 'Business Data Analyst',\n",
              "       'Data Scientist - Sales',\n",
              "       'Principal, Data Science - Advanced Analytics',\n",
              "       'Data Science Project Manager',\n",
              "       'Sr Scientist, Immuno-Oncology - Oncology',\n",
              "       'Research Scientist – Security and Privacy',\n",
              "       'Data Analyst 2 (Missionary Department)',\n",
              "       'Supply Chain Data Analyst', 'Data Engineer - ETL',\n",
              "       'Clinical Document Review Scientist',\n",
              "       'Data Modeler (Analytical Systems)',\n",
              "       'Data Scientist in Translational Medicine',\n",
              "       'Product Manager/Data Evangelist',\n",
              "       'Senior Data Scientist – Visualization, Novartis AI Innovation Lab',\n",
              "       'Senior Data Analyst/Scientist',\n",
              "       'Scientist – Cancer Discovery, Molecular Assay',\n",
              "       'Data Engineering Analyst', 'Manager of Data Science',\n",
              "       'Software Engineer (Data Scientist/Software Engineer) - SISW - MG',\n",
              "       'Associate Research Scientist I (Protein Expression and Production)',\n",
              "       'Head Data Scientist, Predictive Analytics Lead AI Innovation Lab',\n",
              "       'Director, Precision Medicine Clinical Biomarker Scientist',\n",
              "       'Senior Formulations Scientist II', 'Senior Quantitative Analyst',\n",
              "       'Tech Manager, Software Engineering - Data',\n",
              "       'Business Development - Data Supply Partnerships (Veraset)',\n",
              "       'Research Scientist or Senior Research Scientist - Computer Vision',\n",
              "       'Data Analyst Chemist - Quality System Contractor',\n",
              "       'Sr. Manager, Data Science - Marketing Mix Media',\n",
              "       'Research Scientist / Principal Research Scientist - Multiphysical Systems',\n",
              "       'Research Scientist, Machine Learning Department',\n",
              "       'Foundational Community Supports Data Analyst',\n",
              "       'Senior Health Data Analyst, Star Ratings',\n",
              "       'Principal Research Scientist/Team Lead, Medicinal Chemistry - Oncology',\n",
              "       'Quality Control Scientist III- Analytical Development',\n",
              "       'Clinical Scientist, Clinical Development',\n",
              "       'Software Engineer Staff Scientist: Human Language Technologies',\n",
              "       'Manager, Safety Scientist, Medical Safety & Risk Management',\n",
              "       'Assistant Director/Director, Office of Data Science',\n",
              "       'Sr. Data Engineer | Big Data SaaS Pipeline',\n",
              "       'Scientist - CVRM Metabolism - in vivo pharmacology',\n",
              "       'Data Scientist (Warehouse Automation)', 'Jr. Data Scientist',\n",
              "       'Data Architect / Data Modeler', 'Data Scientists',\n",
              "       'Associate Scientist / Sr. Associate Scientist, Antibody Discovery',\n",
              "       'Machine Learning Engineer (NLP)'], dtype=object)"
            ]
          },
          "execution_count": 78,
          "metadata": {},
          "output_type": "execute_result"
        }
      ],
      "source": [
        "data2['Job Title'].unique()"
      ]
    },
    {
      "cell_type": "markdown",
      "id": "ItZ3-mLqaQ5g",
      "metadata": {
        "id": "ItZ3-mLqaQ5g"
      },
      "source": [
        "Grouping similar `Job Titles` together:"
      ]
    },
    {
      "cell_type": "code",
      "execution_count": 79,
      "id": "pxNbsS3DaXx9",
      "metadata": {
        "id": "pxNbsS3DaXx9"
      },
      "outputs": [],
      "source": [
        "job_title_mapping = {\n",
        "    'Data Scientist': [\n",
        "        'Data Scientist', 'Healthcare Data Scientist', 'Staff Data Scientist - Technology',\n",
        "        'Customer Data Scientist', 'Data Scientist - Health Data Analytics', 'Senior Data Scientist / Machine Learning',\n",
        "        'Data Scientist - Quantitative', 'Digital Health Data Scientist', 'Clinical Data Scientist',\n",
        "        'Data Scientist / Machine Learning Expert', 'Senior Data Scientist', 'Data Scientist - Algorithms & Inference',\n",
        "        'Lead Data Scientist', 'Data Scientist in Artificial Intelligence Early Career', 'Data Scientist - Research',\n",
        "        'R&D Data Analysis Scientist', 'Data Scientist SR', 'R&D Sr Data Scientist', 'Data Scientist II',\n",
        "        'Senior Data Scientist - AI Forecasting, Finance team', 'Data Scientist (Active TS SCI with Polygraph)',\n",
        "        'Principal Data Scientist', 'Chief Data Scientist', 'Staff Data Scientist', 'Data Scientist - Bioinformatics',\n",
        "        'Data Scientist (Actuary, FSA or ASA)', 'Customer Data Scientist/Sales Engineer', 'Data Scientist Analyst',\n",
        "        'Data Scientist/ML Engineer', 'Jr. Data Scientist', 'Senior Data Scientist 4 Artificial Intelligence',\n",
        "        'Data Scientist - Alpha Insights', 'Data Scientist - Sales', 'Data Scientist Manager',\n",
        "        'Senior Data Scientist Statistics', 'Sr. Data Scientist', 'Sr. Data Scientist II', 'Data Scientist (Warehouse Automation)',\n",
        "                'Principal Data Scientist (Computational Chemistry)', 'Data Scientist, Office of Data Science', 'Data Scientist in Translational Medicine',\n",
        "        'Senior Data Scientist - R&D Oncology', 'Health Data Analyst/Developer', 'Senior Data Scientist: Causal & Predictive analytics AI Innovation Lab',\n",
        "        'Senior Data Scientist Oncology', 'Data Scientist - Systems Engineering', 'Data Scientist - Consultant - National',\n",
        "        'Data Scientist - Alpha Insights', 'Senior Data & Machine Learning Scientist', 'Data Science Project Manager',\n",
        "        'Head Data Scientist – Image Analytics lead, Novartis AI Innovation Lab', 'Senior Insurance Data Scientist',\n",
        "        'Senior Data Scientist – Visualization, Novartis AI Innovation Lab', 'Data Science Engineer - Mobile',\n",
        "        'Principal, Data Science - Advanced Analytics', 'IT Associate Data Analyst', 'Sr Expert Data Science, Advanced Visual Analytics (Associate level)',\n",
        "        'Data Science Intern', 'Senior Quantitative Analyst', 'Data Scientist Manager', 'Data Scientists', 'Ag Data Scientist', 'Data Scientist, Rice University',\n",
        "        'Senior Data Scientist Artificial Intelligence'\n",
        "    ],\n",
        "    'Data Analyst': [\n",
        "        'Data Analyst', 'Associate Data Analyst', 'Web Data Analyst', 'Data Science Analyst', 'Jr. Business Data Analyst',\n",
        "        'Financial Data Analyst', 'Senior Data Analyst', 'Data Analyst - Asset Management', 'Data Analyst II',\n",
        "        'E-Commerce Data Analyst', 'Excel / VBA / SQL Data Analyst', 'Insurance Financial Data Analyst',\n",
        "        'Data Analyst / Scientist', 'Marketing Data Analyst', 'Data Analyst Chemist - Quality System Contractor',\n",
        "        'Survey Data Analyst', 'Junior Data Analyst', 'Data Analyst Senior', 'Lead Data Analyst',\n",
        "        'Business Data Analyst', 'Data Analyst, Performance Partnership', 'SQL Data Engineer',\n",
        "        'Business Intelligence Analyst / Developer', 'System and Data Analyst', 'Data & Analytics Consultant (NYC)',\n",
        "        'Real World Evidence (RWE) Scientist', 'Data Scientist - Consultant - National', 'Lead Health Data Analyst - Front End',\n",
        "        'Insurance Financial Data Analyst', 'Data Engineer I - Azure', 'Information Security Data Analyst',\n",
        "        'Data Scientist, Senior', 'Data Modeler - Data Solutions Engineer', 'Consultant - Data Analytics Group',\n",
        "        'Sr Data Analyst', 'Program/Data Analyst', 'Big Data Engineer - Chicago - Future Opportunity',\n",
        "        'Supply Chain Data Analyst', 'Data Modeler (Analytical Systems)', 'Senior Data Analyst/Scientist',\n",
        "        'Data Analyst, May 2020 Undergrad', 'Marketing Data Analyst, May 2020 Undergrad', 'Survey Data Analyst',\n",
        "        'Foundational Community Supports Data Analyst', 'Senior Health Data Analyst, Star Ratings',\n",
        "        'Corporate Risk Data Analyst (SQL Based) - Milwaukee or', 'Data Analytics Project Manager',\n",
        "        'Marketing Data Analyst', 'Data Analyst Chemist - Quality System Contractor', 'Survey Data Analyst',\n",
        "        'Diversity and Inclusion Data Analyst', 'Managing Data Scientist/ML Engineer', 'Advanced Analytics Manager',\n",
        "        'Consultant - Analytics Consulting', 'Analytics Manager - Data Mart', 'Analytics - Business Assurance Data Analyst',\n",
        "                'Senior Data Analyst', 'Data Analytics Project Manager', 'Data Analyst Senior', 'Associate Data Analyst- Graduate Development Program',\n",
        "        'Survey Data Analyst', 'Data Analyst Chemist - Quality System Contractor', 'Data Analyst, May 2020 Undergrad',\n",
        "        'Digital Marketing & ECommerce Data Analyst', 'Marketing Data Analyst, May 2020 Undergrad', 'Market Data Analyst',\n",
        "        'Revenue Analytics Manager', 'Sr. Data Analyst', 'Managing Data Scientist/ML Engineer', 'Foundational Community Supports Data Analyst',\n",
        "        'Diversity and Inclusion Data Analyst', 'Technology-Minded, Data Professional Opportunities', 'Salesforce Analytics Consultant',\n",
        "        'Senior Operations Data Analyst, Call Center Operations', 'Senior Health Data Analyst, Star Ratings', 'Corporate Risk Data Analyst (SQL Based) - Milwaukee or',\n",
        "        'Sr Data Analyst - IT', 'Business Data Analyst, SQL'\n",
        "    ],\n",
        "\n",
        "    'Data Engineer': [\n",
        "        'Data Engineer I', 'Data Engineer', 'Senior Data Engineer', 'Data Engineer Intern', 'MongoDB Data Engineer II',\n",
        "        'AWS Data Engineer', 'Data Engineer with R', 'Sr. Data Engineer', 'Lead Data Engineer', 'Data Engineer I - Azure',\n",
        "        'Associate Data Engineer', 'Staff Data Engineer', 'Sr. Data Engineer - Contract-to-Hire (Java)',\n",
        "        'Lead Big Data Engineer', 'Sr Data Engineer (Sr BI Developer)', 'IT - Data Engineer II',\n",
        "        'Data Engineer, Data Engineering and Artificial Intelligence', 'Big Data Engineer', 'Data Engineer - Consultant (Charlotte Based)',\n",
        "        'Sr. Microsoft Data Engineer', 'Data Engineer - ETL', 'Software Data Engineer - College',\n",
        "        'Staff BI and Data Engineer', 'Sr. Data Engineer | Big Data SaaS Pipeline', 'Principal Data Engineer, Data Platform & Insights',\n",
        "        'Data Engineering Analyst', 'Staff Data Engineer', 'Data & Analytics Consultant (NYC)', 'Associate Data Engineer',\n",
        "        'Lead Data Engineer', 'Data Engineer - Consultant', 'Principal Data Engineer', 'Data Engineering Manager',\n",
        "        'Data Infrastructure Engineer', 'Cloud Data Engineer', 'Senior Data Infrastructure Engineer',\n",
        "        'Machine Learning Data Engineer', 'Data Integration Engineer', 'Data Systems Engineer',\n",
        "        'Platform Data Engineer', 'Data Engineer - Advanced Analytics', 'Data Solutions Engineer',\n",
        "        'Data Pipeline Engineer', 'Data Warehousing Engineer', 'Sr. Engineer - Data Engineering',\n",
        "        'Data Network Engineer', 'Data Architecture Engineer', 'Data Strategy Engineer',\n",
        "        'Data Center Engineer', 'Senior Data Solutions Engineer', 'Data Processing Engineer',\n",
        "        'Data Optimization Engineer', 'Data Engineer - Machine Learning', 'Data Quality Engineer',\n",
        "        'Enterprise Data Engineer', 'Full Stack Data Engineer', 'Data Engineer - Business Intelligence',\n",
        "        'Data Development Engineer', 'Senior Cloud Data Engineer', 'Data Engineer - Data Science',\n",
        "        'Data Engineer - Analytics', 'Data Engineer - Data Warehousing', 'Data Application Engineer',\n",
        "        'Data Systems Development Engineer', 'Data Operations Engineer', 'Data Engineering Specialist',\n",
        "        'Advanced Data Engineer', 'Data Technology Engineer', 'Data Engineer - Big Data',\n",
        "        'Data Security Engineer', 'Sr. Data Systems Engineer', 'Data Analytics Engineer',\n",
        "        'Data Platform Engineer', 'Data Engineer - Infrastructure', 'Data Science Engineer',\n",
        "        'Data Engineer - R&D', 'Data Engineer - SQL', 'Data Engineer - Python', 'Data Engineer - Cloud Technologies',\n",
        "        'Data Engineer, Data Engineering and Artificial Intelligence', 'Data Engineer - Analytics', 'Data Engineer - Data Science',\n",
        "        'Data Engineer - Business Intelligence', 'Data Engineer - Data Warehousing', 'Data Engineer - Cloud Technologies',\n",
        "        'Data Engineer - SQL', 'Data Engineer - Python', 'Data Engineer - R&D', 'Data Engineer - Big Data',\n",
        "        'Data Engineer - Infrastructure', 'Data Engineer - ETL', 'Data Science Engineer', 'Data Platform Engineer',\n",
        "        'Data Technology Engineer', 'Data Analytics Engineer', 'Data Systems Engineer', 'Data Network Engineer',\n",
        "        'Data Security Engineer', 'Data Architecture Engineer', 'Data Strategy Engineer', 'Data Optimization Engineer',\n",
        "        'Data Processing Engineer', 'Data Quality Engineer', 'Data Solutions Engineer', 'Data Pipeline Engineer',\n",
        "        'Data Integration Engineer', 'Data Application Engineer', 'Data Operations Engineer', 'Data Systems Development Engineer',\n",
        "        'Data Warehousing Engineer', 'Sr. Data Systems Engineer', 'Principal Data Engineer', 'Senior Cloud Data Engineer',\n",
        "        'Senior Data Infrastructure Engineer', 'Advanced Data Engineer', 'Enterprise Data Engineer', 'Full Stack Data Engineer',\n",
        "        'Lead Data Engineer', 'Lead Big Data Engineer', 'Senior Data Solutions Engineer', 'Data Center Engineer',\n",
        "        'Cloud Data Engineer', 'Data Infrastructure Engineer', 'Data Engineering Manager', 'Machine Learning Data Engineer',\n",
        "        'Data Engineer Intern', 'Data Development Engineer', 'Data Engineering Specialist', 'Data Engineer with R',\n",
        "        'Sr. Engineer - Data Engineering', 'Staff Data Engineer', 'Data Engineer - Advanced Analytics', 'Platform Data Engineer',\n",
        "        'MongoDB Data Engineer II', 'Associate Data Engineer', 'AWS Data Engineer', 'Sr. Microsoft Data Engineer',\n",
        "        'Sr. Data Engineer | Big Data SaaS Pipeline', 'Staff BI and Data Engineer', 'Sr Data Engineer (Sr BI Developer)',\n",
        "        'IT - Data Engineer II', 'Software Data Engineer - College', 'Data Systems Specialist 2', 'Radar Data Analyst',\n",
        "        'Principal Data Engineer, Data Platform & Insights', 'Data Engineering Analyst', 'VP, Data Science',\n",
        "        'Project Scientist - Auton Lab, Robotics Institute', 'Data & Analytics Consultant (NYC)', 'ATL - Data & Analytics (DA)',\n",
        "        'MSP - Data & Analytics (DA)', 'Associate Data Engineer','Data Engineer, Data Engineering and Artificial Intelligence',\n",
        "        'Data Engineer, Data Engineering and Artifical Intelligence'\n",
        "    ],\n",
        "\n",
        "    'Machine Learning Engineer': [\n",
        "        'Machine Learning Engineer', 'Senior Machine Learning (ML) Engineer / Data Scientist - Cyber Security Analytics',\n",
        "        'Staff Machine Learning Engineer', 'Principal Machine Learning Scientist', 'Machine Learning Research Scientist',\n",
        "        'Senior LiDAR Data Scientist', 'Machine Learning Engineer - Regulatory', 'Senior Machine Learning Engineer',\n",
        "        'Associate Machine Learning Engineer / Data Scientist May 2020 Undergrad', 'Machine Learning Scientist ',\n",
        "        'Principal Machine Learning Scientist', 'Staff Machine Learning Scientist, AI Foundation', 'Machine Learning Engineer (NLP)',\n",
        "        'Senior Data Scientist Artificial Intelligence', 'Machine Learning Scientist'\n",
        "\n",
        "    ],\n",
        "\n",
        "    'Computer Vision Specialist': [\n",
        "        'Computer Vision Engineer', 'Computer Vision Scientist', 'Research Scientist or Senior Research Scientist - Computer Vision',\n",
        "        'Deep Learning/Computer Vision Scientist', 'Senior Computer Vision Engineer'\n",
        "    ],\n",
        "\n",
        "    'Business Intelligence Analyst': [\n",
        "        'Business Intelligence Analyst', 'BI Analyst', 'BI & Platform Analytics Manager', 'Business Intelligence Analyst / Developer',\n",
        "        'Senior Business Intelligence Analyst', 'Director - Data, Privacy and AI Governance'\n",
        "    ],\n",
        "\n",
        "    'Analytics Manager/Consultant': [\n",
        "        'Analytics Manager', 'Analytics Consultant', 'Data Analytics Manager', 'Advanced Analytics Manager',\n",
        "        'Analytics - Business Assurance Data Analyst', 'Consultant - Analytics Consulting', 'Analytics Manager - Data Mart',\n",
        "        'Managing Data Scientist/ML Engineer', 'Director of Analytics',\n",
        "        'Senior Manager, Epidemiologic Data Scientist', 'Senior Risk Data Scientist', 'Risk and Analytics IT, Data Scientist'\n",
        "    ],\n",
        "\n",
        "    'Software Engineer (Data Focus)': [\n",
        "        'Software Engineer - Data', 'Data-focused Software Engineer', 'Front-End, Back-End, Fullstack Developers & Data Scientist / Researchers - Cleared OR CLEARABLE (Up to 25% Profit Sharing Benefit!)',\n",
        "        'Software Engineer (Data Scientist/Software Engineer) - SISW - MG', 'Software Data Engineer - College', 'Sr Software Engineer (Data Scientist)',\n",
        "        'Software Engineer - Data Visualization', 'Senior Spark Engineer (Data Science)', 'Software Engineer Staff Scientist: Human Language Technologies'\n",
        "    ],\n",
        "\n",
        "    'Specialized Scientific Roles': [\n",
        "        'Environmental Scientist', 'Medical Lab Scientist', 'Clinical Laboratory Scientist', 'Medical Laboratory Scientist',\n",
        "        'Food Scientist - Developer', 'Scientist Manufacturing - Kentucky BioProcessing', 'Clinical Scientist, Clinical Development',\n",
        "        'Quality Control Scientist', 'Scientist, Stem Cells and Genomics', 'MED TECH/LAB SCIENTIST - LABORATORY',\n",
        "        'Medical Technologist / Clinical Laboratory Scientist', 'MED TECH/LAB SCIENTIST- SOUTH COASTAL LAB',\n",
        "        'Senior Clinical Lab Scientist, Clinical Lab Svcs - FT/Nights (8hr)', 'Scientist, Analytical Development', 'Scientist Manufacturing Pharma - Kentucky BioProcessing'\n",
        "        'Product Engineer – Data Science', 'Associate Principal Scientist, Pharmacogenomics', 'PL Actuarial-Lead Data Scientist',\n",
        "        'Sr. Scientist, Toxicology', 'Associate Scientist', 'Sr Data Scientist', 'Senior Engineer, Data Management Engineering'\n",
        "\n",
        "    ],\n",
        "\n",
        "    'Manager/Director in Data Field': [\n",
        "        'Director of Data Science', 'Data Science Manager', 'Senior Manager, Data Science', 'Director II, Data Science',\n",
        "        'Head Data Scientist', 'Senior Director Biometrics and Clinical Data Management', 'Director - Data, Privacy and AI Governance',\n",
        "        'Director II, Data Science - GRM Actuarial', 'Director Data Science', 'Assistant Director/Director, Office of Data Science',\n",
        "        'Principal Data Scientist', 'Chief Data Scientist', 'Vice President of Data Science', 'Director of Analytics',\n",
        "        'Managing Data Scientist/ML Engineer', 'Senior Data Science Systems Engineer', 'Data Science Manager',\n",
        "                'Director II, Data Science - GRS Predictive Analytics', 'Head Data Scientist, Predictive Analytics Lead AI Innovation Lab',\n",
        "        'Director, Data Science', 'Manager of Data Science', 'Manager, Safety Scientist, Medical Safety & Risk Management',\n",
        "        'Director, Precision Medicine Clinical Biomarker Scientist', 'Tech Manager, Software Engineering - Data',\n",
        "        'Business Development - Data Supply Partnerships (Veraset)', 'Sr. Manager, Data Science - Marketing Mix Media',\n",
        "        'Sr. BI Data Engineer III', 'Process Development Scientist', 'Senior Analytical Scientist',\n",
        "        'Enterprise Architect, Data', 'Sr. Enterprise Account Exec- Data Science / ML - NYC', 'College Hire - Data Scientist - Open to December 2019 Graduates',\n",
        "        'Sr Data Scientist - IT', 'Staff Machine Learning Scientist, AI Foundation', 'Senior Imagery Scientist - SAR TO 11 #78 (TS/SCI)',\n",
        "        'Associate Director/Director, Safety Scientist', 'Lead Data Engineer (Python)', 'Associate, Data Science, Internal Audit',\n",
        "        'Senior Data Scientist - Algorithms'\n",
        "    ],\n",
        "\n",
        "    'Clinical Scientist': [\n",
        "        'Clinical Data Scientist', 'Clinical Research Scientist', 'Clinical Scientist, Clinical Development',\n",
        "        'Clinical Laboratory Scientist', 'Clinical Scientist', 'Medical Laboratory Scientist',\n",
        "        'Senior Clinical Scientist', 'Clinical Document Review Scientist', 'Medical Lab Scientist - MLT'\n",
        "    ],\n",
        "\n",
        "    'Statistician': [\n",
        "        'Statistician', 'Senior Statistician', 'Biostatistician', 'Data Scientist - Statistical', 'Senior Data Scientist Statistics',\n",
        "        'Senior Scientist - Biostatistician', 'Data Statistician'\n",
        "    ],\n",
        "\n",
        "    'AI Specialist': [\n",
        "        'AI Researcher', 'Artificial Intelligence Specialist', 'AI Engineer', 'Senior AI Engineer',\n",
        "        'AI Scientist', 'Senior AI Scientist', 'AI Machine Learning Engineer'\n",
        "    ],\n",
        "\n",
        "    'Other Technical Roles': [\n",
        "        'Technical Specialist', 'Tech Lead', 'Technical Engineer', 'Senior Technical Specialist',\n",
        "        'Technical Analyst', 'Lead Technical Specialist', 'IT Technical Lead', 'Data Technical Lead'\n",
        "    ],\n",
        "\n",
        "\n",
        "    'NLP Specialist': [\n",
        "        'NLP Engineer', 'Natural Language Processing Scientist', 'NLP Data Scientist', 'NLP Research Scientist',\n",
        "        'NLP Specialist', 'Senior NLP Engineer', 'NLP Scientist', 'Head Data Scientist – NLP lead, Novartis AI Innovation Lab'\n",
        "    ],\n",
        "    'Computer Vision Specialist': [\n",
        "        'Computer Vision Engineer', 'Computer Vision Scientist', 'Computer Vision Specialist',\n",
        "        'Senior Computer Vision Engineer', 'Computer Vision Research Scientist', 'Deep Learning/Computer Vision Scientist'\n",
        "    ],\n",
        "    'Business Intelligence Analyst': [\n",
        "        'Business Intelligence Analyst', 'BI Analyst', 'BI & Platform Analytics Manager', 'Business Intelligence Developer',\n",
        "        'Senior BI Analyst', 'BI Data Analyst', 'Business Intelligence Data Analyst'\n",
        "    ],\n",
        "    'Analytics Manager/Consultant': [\n",
        "        'Analytics Manager', 'Analytics Consultant', 'Data Analytics Manager', 'Senior Analytics Manager',\n",
        "        'Analytics Project Manager', 'Consultant - Analytics Consulting', 'Analytics - Business Assurance Data Analyst',\n",
        "        'Advanced Analytics Manager', 'Managing Data Scientist/ML Engineer', 'Business Analytics Consultant',\n",
        "        'Director of Analytics', 'Analytics Manager - Data Mart'\n",
        "    ],\n",
        "\n",
        "    'Specialized Scientific Roles': [\n",
        "        'Environmental Scientist', 'Medical Lab Scientist', 'Clinical Scientist', 'Food Scientist', 'Agricultural Scientist',\n",
        "        'Pharmaceutical Scientist', 'Biomedical Scientist', 'Geo Scientist', 'Physical Scientist', 'Medical Scientist',\n",
        "        'Clinical Laboratory Scientist', 'MED TECH/LAB SCIENTIST - LABORATORY', 'MED TECH/LAB SCIENTIST- SOUTH COASTAL LAB',\n",
        "        'Scientist Manufacturing - Kentucky BioProcessing', 'Scientist Manufacturing Pharma - Kentucky BioProcessing',\n",
        "        'Senior Scientist - Neuroscience', 'Scientist, Analytical Development', 'Sr. Scientist - Digital & Image Analysis/Computational Pathology',\n",
        "        'Principal Scientist - Immunologist', 'Sr. Scientist, Quantitative Translational Sciences', 'Principal Scientist, Chemistry & Immunology',\n",
        "        'Scientist/Senior Scientist, Autoimmune', 'Principal Scientist, Hematology', 'Pharmacovigilance Scientist (Senior Pharmacovigilance)',\n",
        "        'Medical Laboratory Scientist', 'Clinical Laboratory Scientist', 'Scientist, Product Development',\n",
        "        'Senior Scientist - Regulatory Submissions', 'Scientist - Biomarker and Flow Cytometry', 'Associate Scientist, LC/MS Biologics',\n",
        "        'Sr. Scientist Method Development', 'Scientist - CVRM Metabolism - in vivo pharmacology', 'Scientist, Pharmacometrics',\n",
        "        'Staff Scientist- Upstream PD', 'Senior Clinical Lab Scientist, Clinical Lab Svcs - FT/Nights (8hr)',\n",
        "        'Product Engineer – Spatial Data Science and Statistical Analysis', 'Lab Head, Principle Scientist, Dupixent/Type 2 Inflammation & Fibrosis - Cambridge, MA',\n",
        "        'Senior Scientist (Neuroscience)', 'Associate Scientist / Sr. Associate Scientist, Antibody Discovery',\n",
        "        'Scientist, Molecular/Cellular Biologist', 'Scientist - Analytical Services', 'Senior Scientist - Toxicologist - Product Integrity (Stewardship)',\n",
        "        'Senior Scientist Protein/Oligonucleotides', 'Quality Control Scientist', 'Quality Control Scientist III- Analytical Development',\n",
        "        'Senior Formulations Scientist II', 'Scientist 2, QC Viral Vector', 'Senior Scientist - Bioanalytical',\n",
        "        'Scientist, Biomarker Science', 'Scientist, Stem Cells and Genomics', 'Scientist, Immuno-Oncology',\n",
        "        'Principal Scientist, Hematology', 'Principal Scientist, Chemistry & Immunology', 'Associate Scientist/Scientist',\n",
        "                'ENVIRONMENTAL ENGINEER/SCIENTIST', 'Food Scientist - Developer', 'Scientist', 'Clinical Data Analyst',\n",
        "        'Associate Environmental Scientist - Wildlife Biologist', 'Pricipal Scientist Molecular and cellular biologist',\n",
        "        'Computational Chemist/Data Scientist', 'RESEARCH COMPUTER SCIENTIST - RESEARCH ENGINEER - SR. COMPUTER SCIENTIST - SOFTWARE DEVELOPMENT',\n",
        "        'Chief Scientist - Emerging Technology Center', 'Systems Engineer II - Data Analyst', 'Products Data Analyst II',\n",
        "        'Sr Scientist, Immuno-Oncology - Oncology', 'Sr. Scientist II', 'Insurance Data Scientist', 'Data Modeler',\n",
        "        'Clinical Data Manager', 'Chief Data Officer', 'Associate Director, Platform and DevOps- Data Engineering and Aritifical Intelligence',\n",
        "        'Project Scientist', 'Sr. Data Scientist - Analytics, Personalized Healthcare (PHC)', 'RESEARCH SCIENTIST - BIOLOGICAL SAFETY',\n",
        "        'Customer Data Scientist/Sales Engineer (Bay', 'Data Architect / Data Modeler', 'Associate Scientist/Scientist, Process Analytical Technology - Small Molecule Analytical Chemistry',\n",
        "        'Staff Scientist', 'Data Management Specialist', 'Medical Technologist / Clinical Laboratory Scientist',\n",
        "        'Associate Data Scientist/Computer Scientist', 'CONSULTANT– DATA ANALYTICS GROUP', 'Data Engineer, Data Engineering and Artificial Intelligence'\n",
        "\n",
        "        ],\n",
        "\n",
        "    'Research Scientist': [\n",
        "        'Research Scientist', 'Scientist I/II, Biology', 'Senior Research Scientist', 'Spectral Scientist/Engineer',\n",
        "        'R&D Sr Data Scientist', 'Research Scientist - Bioinformatics', 'Senior Research Analytical Scientist-Non-Targeted Analysis',\n",
        "        'Research Scientist / Principal Research Scientist - Multiphysical Systems', 'Research Scientist, Machine Learning Department',\n",
        "        'Research Scientist – Security and Privacy', 'Senior Research Scientist - Embedded System Development for DevOps',\n",
        "        'Weapons and Sensors Engineer/Scientist – Entry Level', 'Senior Scientist - Bioanalytical', 'Scientist, Biomarker Science',\n",
        "        'Senior Research Scientist - Neuroscience', 'Senior Research Statistician- Data Scientist', 'Senior Scientist - Neuroscience',\n",
        "        'Senior Research Scientist-Machine Learning', 'Scientist, Product Development', 'Senior Scientist Protein/Oligonucleotides',\n",
        "        'Scientist, Molecular/Cellular Biologist', 'Scientist - Analytical Services', 'Senior Scientist - Regulatory Submissions',\n",
        "        'Senior Scientist - Biostatistician', 'Senior Formulations Scientist II', 'Scientist, Pharmacometrics',\n",
        "        'Scientist Manufacturing Pharma - Kentucky BioProcessing', 'Lab Head, Principle Scientist, Dupixent/Type 2 Inflammation & Fibrosis - Cambridge, MA',\n",
        "        'Senior Scientist, Logic Gated CAR T Cell Therapy', 'Principal Scientist, Hematology', 'Scientist - CVRM Metabolism - in vivo pharmacology',\n",
        "        'Research Scientist or Senior Research Scientist - Computer Vision', 'Scientist/Senior Scientist, Autoimmune',\n",
        "        'Principal Scientist, Chemistry & Immunology', 'Scientist - Biomarker and Flow Cytometry', 'Associate Research Scientist I (Protein Expression and Production)',\n",
        "        'Staff Scientist-Downstream Process Development', 'Scientist, Immuno-Oncology', 'Associate Scientist / Sr. Associate Scientist, Antibody Discovery'\n",
        "    ],\n",
        "\n",
        "    'Machine Learning Engineer': [\n",
        "        'Machine Learning Engineer', 'Senior Machine Learning Engineer', 'Staff Machine Learning Engineer',\n",
        "        'Machine Learning Research Scientist', 'Machine Learning Engineer - Regulatory', 'Senior LiDAR Data Scientist',\n",
        "        'Principal Machine Learning Scientist', 'Machine Learning Engineer (NLP)', 'Associate Machine Learning Engineer / Data Scientist May 2020 Undergrad',\n",
        "        'Lead Machine Learning Engineer', 'Senior Machine Learning (ML) Engineer / Data Scientist - Cyber Security Analytics'\n",
        "    ],\n",
        "\n",
        "    'NLP Specialist': [\n",
        "        'NLP Engineer', 'Natural Language Processing Scientist', 'Head Data Scientist – NLP lead, Novartis AI Innovation Lab',\n",
        "        'UX Data Scientist (Python)', 'Senior Data Scientist - NLP lead, Novartis AI Innovation Lab', 'Data Scientist - NLP'\n",
        "    ]\n",
        "  }\n",
        "\n",
        "# Replace job titles in the DataFrame\n",
        "for general_title, specific_titles in job_title_mapping.items():\n",
        "    data2.loc[data2['Job Title'].isin(specific_titles), 'Job Title'] = general_title"
      ]
    },
    {
      "cell_type": "code",
      "execution_count": 124,
      "id": "VSL9w8kFkAne",
      "metadata": {
        "colab": {
          "base_uri": "https://localhost:8080/"
        },
        "id": "VSL9w8kFkAne",
        "outputId": "12e5d294-d4e4-4b51-df4f-ec681635a1fa"
      },
      "outputs": [
        {
          "name": "stdout",
          "output_type": "stream",
          "text": [
            "Job Title\n",
            "Data Scientist                    245\n",
            "Specialized Scientific Roles      119\n",
            "Data Analyst                      112\n",
            "Data Engineer                     108\n",
            "Manager/Director in Data Field     29\n",
            "Research Scientist                 24\n",
            "Machine Learning Engineer          20\n",
            "Software Engineer (Data Focus)      8\n",
            "Analytics Manager/Consultant        4\n",
            "Clinical Scientist                  3\n",
            "Business Intelligence Analyst       2\n",
            "Statistician                        2\n",
            "Name: count, dtype: int64\n"
          ]
        }
      ],
      "source": [
        "with pd.option_context('display.max_rows', None):\n",
        "    print(data2['Job Title'].value_counts())"
      ]
    },
    {
      "cell_type": "markdown",
      "id": "NMx4dCHZ9Bja",
      "metadata": {
        "id": "NMx4dCHZ9Bja"
      },
      "source": [
        "---"
      ]
    },
    {
      "cell_type": "markdown",
      "id": "v8DZMWJPOOy7",
      "metadata": {
        "id": "v8DZMWJPOOy7"
      },
      "source": [
        "### **Company Rating**"
      ]
    },
    {
      "cell_type": "markdown",
      "id": "dcb85a8b",
      "metadata": {
        "id": "dcb85a8b",
        "papermill": {
          "duration": 0.009273,
          "end_time": "2023-10-02T22:31:06.224831",
          "exception": false,
          "start_time": "2023-10-02T22:31:06.215558",
          "status": "completed"
        },
        "tags": []
      },
      "source": [
        "- What is the average rating of companies in the dataset?\n",
        "\n"
      ]
    },
    {
      "cell_type": "code",
      "execution_count": 81,
      "id": "0fad4593",
      "metadata": {
        "colab": {
          "base_uri": "https://localhost:8080/"
        },
        "execution": {
          "iopub.execute_input": "2023-10-02T22:31:06.245343Z",
          "iopub.status.busy": "2023-10-02T22:31:06.244987Z",
          "iopub.status.idle": "2023-10-02T22:31:06.249648Z",
          "shell.execute_reply": "2023-10-02T22:31:06.249014Z"
        },
        "id": "0fad4593",
        "outputId": "26b80fcd-8521-4bd8-8653-9363d15036c3",
        "papermill": {
          "duration": 0.017647,
          "end_time": "2023-10-02T22:31:06.252067",
          "exception": false,
          "start_time": "2023-10-02T22:31:06.234420",
          "status": "completed"
        },
        "tags": []
      },
      "outputs": [
        {
          "name": "stdout",
          "output_type": "stream",
          "text": [
            "Average Rating: 3.601171458998935\n"
          ]
        }
      ],
      "source": [
        "average_rating = data2['Rating'].mean()\n",
        "print(\"Average Rating:\", average_rating)"
      ]
    },
    {
      "cell_type": "code",
      "execution_count": 82,
      "id": "j3QRh3yR9Lbg",
      "metadata": {
        "colab": {
          "base_uri": "https://localhost:8080/"
        },
        "id": "j3QRh3yR9Lbg",
        "outputId": "dfde6bfb-e797-4d07-b780-d11d43ff7cfc"
      },
      "outputs": [
        {
          "data": {
            "text/plain": [
              "count    939.000000\n",
              "mean       3.601171\n",
              "std        1.074927\n",
              "min       -1.000000\n",
              "25%        3.300000\n",
              "50%        3.800000\n",
              "75%        4.200000\n",
              "max        5.000000\n",
              "Name: Rating, dtype: float64"
            ]
          },
          "execution_count": 82,
          "metadata": {},
          "output_type": "execute_result"
        }
      ],
      "source": [
        "data2['Rating'].describe()"
      ]
    },
    {
      "cell_type": "code",
      "execution_count": 83,
      "id": "MWn-0pgU_X86",
      "metadata": {
        "colab": {
          "base_uri": "https://localhost:8080/"
        },
        "id": "MWn-0pgU_X86",
        "outputId": "22067d70-5dd5-429e-b993-60005394809e"
      },
      "outputs": [
        {
          "data": {
            "text/plain": [
              "(939, 14)"
            ]
          },
          "execution_count": 83,
          "metadata": {},
          "output_type": "execute_result"
        }
      ],
      "source": [
        "data2.shape"
      ]
    },
    {
      "cell_type": "code",
      "execution_count": 84,
      "id": "P6cmMJAh_Sda",
      "metadata": {
        "id": "P6cmMJAh_Sda"
      },
      "outputs": [],
      "source": [
        "data2 = data2[data2['Rating'] >= 0]"
      ]
    },
    {
      "cell_type": "code",
      "execution_count": 85,
      "id": "QjVkRogz_rcB",
      "metadata": {
        "colab": {
          "base_uri": "https://localhost:8080/"
        },
        "id": "QjVkRogz_rcB",
        "outputId": "b2eff689-714d-4a19-daee-bd5b1980d757"
      },
      "outputs": [
        {
          "data": {
            "text/plain": [
              "(905, 14)"
            ]
          },
          "execution_count": 85,
          "metadata": {},
          "output_type": "execute_result"
        }
      ],
      "source": [
        "data2.shape"
      ]
    },
    {
      "cell_type": "markdown",
      "id": "fZYjl5xW_x-Q",
      "metadata": {
        "id": "fZYjl5xW_x-Q"
      },
      "source": [
        "I dropped the rows that have Negative `Rating` values (-1), which are 34 rows."
      ]
    },
    {
      "cell_type": "markdown",
      "id": "b_plxMew9D94",
      "metadata": {
        "id": "b_plxMew9D94"
      },
      "source": [
        "---"
      ]
    },
    {
      "cell_type": "markdown",
      "id": "v9fs67XNOcgE",
      "metadata": {
        "id": "v9fs67XNOcgE"
      },
      "source": [
        "### **Company Size**"
      ]
    },
    {
      "cell_type": "markdown",
      "id": "b4960026",
      "metadata": {
        "id": "b4960026",
        "papermill": {
          "duration": 0.0092,
          "end_time": "2023-10-02T22:31:06.270904",
          "exception": false,
          "start_time": "2023-10-02T22:31:06.261704",
          "status": "completed"
        },
        "tags": []
      },
      "source": [
        "- How many different company sizes are there, and what are they?\n",
        "\n"
      ]
    },
    {
      "cell_type": "code",
      "execution_count": 86,
      "id": "5c59a95e",
      "metadata": {
        "colab": {
          "base_uri": "https://localhost:8080/"
        },
        "execution": {
          "iopub.execute_input": "2023-10-02T22:31:06.292756Z",
          "iopub.status.busy": "2023-10-02T22:31:06.292147Z",
          "iopub.status.idle": "2023-10-02T22:31:06.296835Z",
          "shell.execute_reply": "2023-10-02T22:31:06.296154Z"
        },
        "id": "5c59a95e",
        "outputId": "0dcec900-a58b-47cd-daf2-bab33de9f6c5",
        "papermill": {
          "duration": 0.018278,
          "end_time": "2023-10-02T22:31:06.298856",
          "exception": false,
          "start_time": "2023-10-02T22:31:06.280578",
          "status": "completed"
        },
        "tags": []
      },
      "outputs": [
        {
          "data": {
            "text/plain": [
              "array(['501 to 1000 employees', '10000+ employees',\n",
              "       '1001 to 5000 employees', '51 to 200 employees',\n",
              "       '201 to 500 employees', '5001 to 10000 employees',\n",
              "       '1 to 50 employees', 'Unknown'], dtype=object)"
            ]
          },
          "execution_count": 86,
          "metadata": {},
          "output_type": "execute_result"
        }
      ],
      "source": [
        "company_sizes = data2['Size'].unique()\n",
        "company_sizes"
      ]
    },
    {
      "cell_type": "code",
      "execution_count": 87,
      "id": "YPlN-ZwkDESp",
      "metadata": {
        "id": "YPlN-ZwkDESp"
      },
      "outputs": [],
      "source": [
        "data2 = data2[(data2['Size'] != 'Unknown') & (data2['Size'] != -1)]"
      ]
    },
    {
      "cell_type": "markdown",
      "id": "o1QbaIkUDKvz",
      "metadata": {
        "id": "o1QbaIkUDKvz"
      },
      "source": [
        "I dropped the rows that have Unknown `Size`."
      ]
    },
    {
      "cell_type": "markdown",
      "id": "RUlipgvVAFny",
      "metadata": {
        "id": "RUlipgvVAFny"
      },
      "source": [
        "---"
      ]
    },
    {
      "cell_type": "markdown",
      "id": "UJ-QvWTAOyiL",
      "metadata": {
        "id": "UJ-QvWTAOyiL"
      },
      "source": [
        "### **Company's Age**"
      ]
    },
    {
      "cell_type": "markdown",
      "id": "5a94fa09",
      "metadata": {
        "id": "5a94fa09",
        "papermill": {
          "duration": 0.009432,
          "end_time": "2023-10-02T22:31:06.318314",
          "exception": false,
          "start_time": "2023-10-02T22:31:06.308882",
          "status": "completed"
        },
        "tags": []
      },
      "source": [
        "- How many companies were founded in each year?\n",
        "\n"
      ]
    },
    {
      "cell_type": "code",
      "execution_count": 88,
      "id": "e8c1cc8e",
      "metadata": {
        "colab": {
          "base_uri": "https://localhost:8080/"
        },
        "execution": {
          "iopub.execute_input": "2023-10-02T22:31:06.340039Z",
          "iopub.status.busy": "2023-10-02T22:31:06.339005Z",
          "iopub.status.idle": "2023-10-02T22:31:06.347360Z",
          "shell.execute_reply": "2023-10-02T22:31:06.346167Z"
        },
        "id": "e8c1cc8e",
        "outputId": "cfe9fe6d-fd9d-484c-bab9-593cdbcae539",
        "papermill": {
          "duration": 0.021469,
          "end_time": "2023-10-02T22:31:06.349424",
          "exception": false,
          "start_time": "2023-10-02T22:31:06.327955",
          "status": "completed"
        },
        "tags": []
      },
      "outputs": [
        {
          "name": "stdout",
          "output_type": "stream",
          "text": [
            "Companies Founded per Year:\n",
            "Founded\n",
            "-1       61\n",
            " 2008    39\n",
            " 2010    38\n",
            " 1996    38\n",
            " 2013    33\n",
            "         ..\n",
            " 1945     1\n",
            " 1878     1\n",
            " 1860     1\n",
            " 1942     1\n",
            " 1889     1\n",
            "Name: count, Length: 108, dtype: int64\n"
          ]
        }
      ],
      "source": [
        "companies_founded_per_year = data2['Founded'].value_counts()\n",
        "print(\"Companies Founded per Year:\")\n",
        "print(companies_founded_per_year)"
      ]
    },
    {
      "cell_type": "code",
      "execution_count": 89,
      "id": "ISw80ADDBN6p",
      "metadata": {
        "colab": {
          "base_uri": "https://localhost:8080/"
        },
        "id": "ISw80ADDBN6p",
        "outputId": "f6624a60-b8a3-47ae-bc12-aa8a600a006f"
      },
      "outputs": [
        {
          "data": {
            "text/plain": [
              "0"
            ]
          },
          "execution_count": 89,
          "metadata": {},
          "output_type": "execute_result"
        }
      ],
      "source": [
        "data2 = data2[data2['Founded'] >= 0]\n",
        "(data2['Founded']==-1).sum()"
      ]
    },
    {
      "cell_type": "markdown",
      "id": "FPtZ9uUPBZlq",
      "metadata": {
        "id": "FPtZ9uUPBZlq"
      },
      "source": [
        "I dropped the rows that have Negative values (-1) in `Founded`, which are 61 rows."
      ]
    },
    {
      "cell_type": "markdown",
      "id": "_xv8XTNBEAxb",
      "metadata": {
        "id": "_xv8XTNBEAxb"
      },
      "source": [
        "---"
      ]
    },
    {
      "cell_type": "markdown",
      "id": "RK4YLEIJO6AE",
      "metadata": {
        "id": "RK4YLEIJO6AE"
      },
      "source": [
        "### **Company's Type of Ownership**"
      ]
    },
    {
      "cell_type": "markdown",
      "id": "9645f020",
      "metadata": {
        "id": "9645f020",
        "papermill": {
          "duration": 0.010009,
          "end_time": "2023-10-02T22:31:06.369290",
          "exception": false,
          "start_time": "2023-10-02T22:31:06.359281",
          "status": "completed"
        },
        "tags": []
      },
      "source": [
        "- What are the different types of ownership and their counts?\n",
        "\n"
      ]
    },
    {
      "cell_type": "code",
      "execution_count": 90,
      "id": "d734e525",
      "metadata": {
        "colab": {
          "base_uri": "https://localhost:8080/"
        },
        "execution": {
          "iopub.execute_input": "2023-10-02T22:31:06.390880Z",
          "iopub.status.busy": "2023-10-02T22:31:06.390508Z",
          "iopub.status.idle": "2023-10-02T22:31:06.396567Z",
          "shell.execute_reply": "2023-10-02T22:31:06.395887Z"
        },
        "id": "d734e525",
        "outputId": "06e9c07b-1764-4792-985e-babdfb079f8d",
        "papermill": {
          "duration": 0.019719,
          "end_time": "2023-10-02T22:31:06.398891",
          "exception": false,
          "start_time": "2023-10-02T22:31:06.379172",
          "status": "completed"
        },
        "tags": []
      },
      "outputs": [
        {
          "data": {
            "text/plain": [
              "Type of ownership\n",
              "Company - Private                 482\n",
              "Company - Public                  219\n",
              "Nonprofit Organization             49\n",
              "Subsidiary or Business Segment     37\n",
              "Government                         15\n",
              "Hospital                           15\n",
              "College / University               13\n",
              "Other Organization                  4\n",
              "Contract                            3\n",
              "Unknown                             1\n",
              "School / School District            1\n",
              "Name: count, dtype: int64"
            ]
          },
          "execution_count": 90,
          "metadata": {},
          "output_type": "execute_result"
        }
      ],
      "source": [
        "data2['Type of ownership'].value_counts()"
      ]
    },
    {
      "cell_type": "markdown",
      "id": "03NPaMfdF8iD",
      "metadata": {
        "id": "03NPaMfdF8iD"
      },
      "source": [
        "I will replace these values: `'-1'`, `'Unknown'`, `'Contract'`, `'School / School District'`, `'Private Practice / Firm'` to `Other Organization`"
      ]
    },
    {
      "cell_type": "code",
      "execution_count": 91,
      "id": "0Ih3rUz-F6YC",
      "metadata": {
        "id": "0Ih3rUz-F6YC"
      },
      "outputs": [],
      "source": [
        "values_to_replace = ['-1', 'Unknown', 'Contract', 'School / School District', 'Private Practice / Firm']\n",
        "\n",
        "data2['Type of ownership'] = data2['Type of ownership'].replace(values_to_replace, 'Other Organization')"
      ]
    },
    {
      "cell_type": "code",
      "execution_count": 92,
      "id": "egWm5QsJGY1E",
      "metadata": {
        "colab": {
          "base_uri": "https://localhost:8080/"
        },
        "id": "egWm5QsJGY1E",
        "outputId": "8321dc60-67b4-47ee-ad5d-39a31e9c014c"
      },
      "outputs": [
        {
          "data": {
            "text/plain": [
              "Type of ownership\n",
              "Company - Private                 482\n",
              "Company - Public                  219\n",
              "Nonprofit Organization             49\n",
              "Subsidiary or Business Segment     37\n",
              "Government                         15\n",
              "Hospital                           15\n",
              "College / University               13\n",
              "Other Organization                  9\n",
              "Name: count, dtype: int64"
            ]
          },
          "execution_count": 92,
          "metadata": {},
          "output_type": "execute_result"
        }
      ],
      "source": [
        "data2['Type of ownership'].value_counts()"
      ]
    },
    {
      "cell_type": "markdown",
      "id": "7Hdi4Tw_G1l7",
      "metadata": {
        "id": "7Hdi4Tw_G1l7"
      },
      "source": [
        "---"
      ]
    },
    {
      "cell_type": "markdown",
      "id": "gZSpJIwxNkMD",
      "metadata": {
        "id": "gZSpJIwxNkMD"
      },
      "source": [
        "### **Industry**"
      ]
    },
    {
      "cell_type": "code",
      "execution_count": 93,
      "id": "Z9bQF5rnHp5z",
      "metadata": {
        "colab": {
          "base_uri": "https://localhost:8080/"
        },
        "id": "Z9bQF5rnHp5z",
        "outputId": "3b4b1917-348d-4207-cf1a-f4ed30cbaaff"
      },
      "outputs": [
        {
          "data": {
            "text/plain": [
              "Industry\n",
              "Biotech & Pharmaceuticals                   136\n",
              "IT Services                                  70\n",
              "Computer Hardware & Software                 64\n",
              "Insurance Carriers                           60\n",
              "Enterprise Software & Network Solutions      54\n",
              "Health Care Services & Hospitals             51\n",
              "Internet                                     35\n",
              "Consulting                                   33\n",
              "Aerospace & Defense                          31\n",
              "Staffing & Outsourcing                       26\n",
              "Advertising & Marketing                      25\n",
              "Consumer Products Manufacturing              22\n",
              "Research & Development                       21\n",
              "Banks & Credit Unions                        19\n",
              "Colleges & Universities                      16\n",
              "Lending                                      14\n",
              "Energy                                       14\n",
              "Federal Agencies                             13\n",
              "Travel Agencies                               8\n",
              "Financial Analytics & Research                8\n",
              "Real Estate                                   8\n",
              "Video Games                                   8\n",
              "Food & Beverage Manufacturing                 7\n",
              "Security Services                             7\n",
              "Department, Clothing, & Shoe Stores           7\n",
              "Insurance Agencies & Brokerages               6\n",
              "Gambling                                      4\n",
              "Architectural & Engineering Services          4\n",
              "Gas Stations                                  4\n",
              "Industrial Manufacturing                      4\n",
              "Construction                                  4\n",
              "Investment Banking & Asset Management         4\n",
              "Logistics & Supply Chain                      4\n",
              "Telecommunications Services                   4\n",
              "Transportation Management                     3\n",
              "Consumer Product Rental                       3\n",
              "Wholesale                                     3\n",
              "Stock Exchanges                               3\n",
              "Education Training Services                   3\n",
              "K-12 Education                                3\n",
              "Metals Brokers                                2\n",
              "Brokerage Services                            2\n",
              "Sporting Goods Stores                         2\n",
              "TV Broadcast & Cable Networks                 2\n",
              "Publishing                                    2\n",
              "Financial Transaction Processing              2\n",
              "Telecommunications Manufacturing              2\n",
              "Social Assistance                             2\n",
              "Health Care Products Manufacturing            1\n",
              "Mining                                        1\n",
              "Auctions & Galleries                          1\n",
              "Trucking                                      1\n",
              "Preschool & Child Care                        1\n",
              "Farm Support Services                         1\n",
              "Transportation Equipment Manufacturing        1\n",
              "Motion Picture Production & Distribution      1\n",
              "Other Retail Stores                           1\n",
              "Beauty & Personal Accessories Stores          1\n",
              "Name: count, dtype: int64"
            ]
          },
          "execution_count": 93,
          "metadata": {},
          "output_type": "execute_result"
        }
      ],
      "source": [
        "data2['Industry'].value_counts()"
      ]
    },
    {
      "cell_type": "markdown",
      "id": "sBJpuFImJFuz",
      "metadata": {
        "id": "sBJpuFImJFuz"
      },
      "source": [
        "Grouping similar industries into broader categories"
      ]
    },
    {
      "cell_type": "code",
      "execution_count": 94,
      "id": "0a713a7d",
      "metadata": {
        "execution": {
          "iopub.execute_input": "2023-10-02T22:31:06.439868Z",
          "iopub.status.busy": "2023-10-02T22:31:06.439082Z",
          "iopub.status.idle": "2023-10-02T22:31:06.446705Z",
          "shell.execute_reply": "2023-10-02T22:31:06.445593Z"
        },
        "id": "0a713a7d",
        "papermill": {
          "duration": 0.020592,
          "end_time": "2023-10-02T22:31:06.448730",
          "exception": false,
          "start_time": "2023-10-02T22:31:06.428138",
          "status": "completed"
        },
        "tags": []
      },
      "outputs": [],
      "source": [
        "# Mapping of specific industries to broader categories\n",
        "industry_mapping = {\n",
        "    'Biotech & Pharmaceuticals': ['Biotech & Pharmaceuticals'],\n",
        "    'Technology': ['IT Services', 'Computer Hardware & Software', 'Enterprise Software & Network Solutions', 'Internet', 'Video Games', 'Telecommunications Services', 'Telecommunications Manufacturing'],\n",
        "    'Insurance': ['Insurance Carriers', 'Insurance Agencies & Brokerages'],\n",
        "    'Health Care': ['Health Care Services & Hospitals', 'Health Care Products Manufacturing'],\n",
        "    'Consulting': ['Consulting'],\n",
        "    'Aerospace & Defense': ['Aerospace & Defense'],\n",
        "    'Professional Services': ['Staffing & Outsourcing', 'Advertising & Marketing', 'Research & Development', 'Architectural & Engineering Services'],\n",
        "    'Manufacturing': ['Consumer Products Manufacturing', 'Food & Beverage Manufacturing', 'Industrial Manufacturing', 'Transportation Equipment Manufacturing'],\n",
        "    'Financial Services': ['Banks & Credit Unions', 'Lending', 'Federal Agencies', 'Financial Analytics & Research', 'Financial Transaction Processing', 'Investment Banking & Asset Management', 'Brokerage Services', 'Metals Brokers', 'Stock Exchanges'],\n",
        "    'Education': ['Colleges & Universities', 'K-12 Education', 'Education Training Services', 'Preschool & Child Care'],\n",
        "    'Energy & Utilities': ['Energy', 'Gas Stations'],\n",
        "    'Retail & Consumer Services': ['Department, Clothing, & Shoe Stores', 'Consumer Product Rental', 'Other Retail Stores', 'Sporting Goods Stores', 'Beauty & Personal Accessories Stores'],\n",
        "    'Real Estate & Construction': ['Real Estate', 'Construction'],\n",
        "    'Media & Entertainment': ['Publishing', 'TV Broadcast & Cable Networks', 'Motion Picture Production & Distribution'],\n",
        "    'Logistics & Transportation': ['Logistics & Supply Chain', 'Transportation Management', 'Trucking'],\n",
        "    'Others': ['Security Services', 'Gambling', 'Wholesale', 'Social Assistance', 'Auctions & Galleries', 'Mining', 'Farm Support Services']\n",
        "}\n",
        "\n",
        "for broader_category, industries in industry_mapping.items():\n",
        "    data2.loc[data2['Industry'].isin(industries), 'Industry'] = broader_category"
      ]
    },
    {
      "cell_type": "code",
      "execution_count": 95,
      "id": "JqXXczARJSNZ",
      "metadata": {
        "colab": {
          "base_uri": "https://localhost:8080/"
        },
        "id": "JqXXczARJSNZ",
        "outputId": "5c04e9cf-5aff-41db-93ac-2911cad90d15"
      },
      "outputs": [
        {
          "data": {
            "text/plain": [
              "Industry\n",
              "Technology                    237\n",
              "Biotech & Pharmaceuticals     136\n",
              "Professional Services          76\n",
              "Financial Services             67\n",
              "Insurance                      66\n",
              "Health Care                    52\n",
              "Manufacturing                  34\n",
              "Consulting                     33\n",
              "Aerospace & Defense            31\n",
              "Education                      23\n",
              "Others                         19\n",
              "Energy & Utilities             18\n",
              "Retail & Consumer Services     14\n",
              "Real Estate & Construction     12\n",
              "Logistics & Transportation      8\n",
              "Travel Agencies                 8\n",
              "Media & Entertainment           5\n",
              "Name: count, dtype: int64"
            ]
          },
          "execution_count": 95,
          "metadata": {},
          "output_type": "execute_result"
        }
      ],
      "source": [
        "data2['Industry'].value_counts()"
      ]
    },
    {
      "cell_type": "markdown",
      "id": "jCKlmSGKJsfy",
      "metadata": {
        "id": "jCKlmSGKJsfy"
      },
      "source": [
        "---"
      ]
    },
    {
      "cell_type": "markdown",
      "id": "J3ei32GaTZw7",
      "metadata": {
        "id": "J3ei32GaTZw7"
      },
      "source": [
        "### **Sector**"
      ]
    },
    {
      "cell_type": "markdown",
      "id": "_edBbYjbKq1T",
      "metadata": {
        "id": "_edBbYjbKq1T"
      },
      "source": [
        "I will drop the `Sector` column, since it is similar to `Industry`."
      ]
    },
    {
      "cell_type": "code",
      "execution_count": 96,
      "id": "lsBVmhZDKA56",
      "metadata": {
        "colab": {
          "base_uri": "https://localhost:8080/"
        },
        "id": "lsBVmhZDKA56",
        "outputId": "d2e88806-1d5c-488a-be9e-976ab82e3f15"
      },
      "outputs": [
        {
          "data": {
            "text/plain": [
              "Sector\n",
              "Information Technology                223\n",
              "Biotech & Pharmaceuticals             136\n",
              "Business Services                     119\n",
              "Insurance                              66\n",
              "Finance                                52\n",
              "Health Care                            51\n",
              "Manufacturing                          35\n",
              "Aerospace & Defense                    31\n",
              "Education                              23\n",
              "Retail                                 16\n",
              "Oil, Gas, Energy & Utilities           14\n",
              "Government                             13\n",
              "Media                                  13\n",
              "Travel & Tourism                        8\n",
              "Transportation & Logistics              8\n",
              "Real Estate                             8\n",
              "Telecommunications                      6\n",
              "Arts, Entertainment & Recreation        4\n",
              "Construction, Repair & Maintenance      4\n",
              "Mining & Metals                         3\n",
              "Consumer Services                       3\n",
              "Non-Profit                              2\n",
              "Agriculture & Forestry                  1\n",
              "Name: count, dtype: int64"
            ]
          },
          "execution_count": 96,
          "metadata": {},
          "output_type": "execute_result"
        }
      ],
      "source": [
        "data2['Sector'].value_counts()"
      ]
    },
    {
      "cell_type": "code",
      "execution_count": 97,
      "id": "A1ZnZBLnLEI5",
      "metadata": {
        "id": "A1ZnZBLnLEI5"
      },
      "outputs": [],
      "source": [
        "data2.drop(columns=\"Sector\" ,inplace=True)"
      ]
    },
    {
      "cell_type": "markdown",
      "id": "3upMVaidLA37",
      "metadata": {
        "id": "3upMVaidLA37"
      },
      "source": [
        "---"
      ]
    },
    {
      "cell_type": "markdown",
      "id": "uzBp8aKuZwdL",
      "metadata": {
        "id": "uzBp8aKuZwdL"
      },
      "source": [
        "### **Company HQ**"
      ]
    },
    {
      "cell_type": "code",
      "execution_count": 98,
      "id": "eSHUe_ArZwdb",
      "metadata": {
        "colab": {
          "base_uri": "https://localhost:8080/"
        },
        "id": "eSHUe_ArZwdb",
        "outputId": "d6265901-ecab-4c47-fd42-9b833b9189c0"
      },
      "outputs": [
        {
          "data": {
            "text/plain": [
              "Headquarters\n",
              "New York, NY         64\n",
              "San Francisco, CA    49\n",
              "Chicago, IL          33\n",
              "Cambridge, MA        22\n",
              "Boston, MA           17\n",
              "                     ..\n",
              "Chattanooga, TN       1\n",
              "Tempe, AZ             1\n",
              "Aurora, CO            1\n",
              "Fort Worth, TX        1\n",
              "Novi, MI              1\n",
              "Name: count, Length: 207, dtype: int64"
            ]
          },
          "execution_count": 98,
          "metadata": {},
          "output_type": "execute_result"
        }
      ],
      "source": [
        "data2['Headquarters'].value_counts()"
      ]
    },
    {
      "cell_type": "code",
      "execution_count": 99,
      "id": "BFEjUbn4Zwdc",
      "metadata": {
        "id": "BFEjUbn4Zwdc"
      },
      "outputs": [],
      "source": [
        "data2.drop(columns=\"Headquarters\" ,inplace=True)"
      ]
    },
    {
      "cell_type": "markdown",
      "id": "lInYNqA1Zwdc",
      "metadata": {
        "id": "lInYNqA1Zwdc"
      },
      "source": [
        "---"
      ]
    },
    {
      "cell_type": "markdown",
      "id": "76CjLMW0bRSV",
      "metadata": {
        "id": "76CjLMW0bRSV"
      },
      "source": [
        "### **Company's Revenue**"
      ]
    },
    {
      "cell_type": "code",
      "execution_count": 100,
      "id": "c0344d28",
      "metadata": {
        "colab": {
          "base_uri": "https://localhost:8080/"
        },
        "execution": {
          "iopub.execute_input": "2023-10-02T22:31:06.544831Z",
          "iopub.status.busy": "2023-10-02T22:31:06.544455Z",
          "iopub.status.idle": "2023-10-02T22:31:06.551188Z",
          "shell.execute_reply": "2023-10-02T22:31:06.549964Z"
        },
        "id": "c0344d28",
        "outputId": "2c9a9a5c-f517-480a-d7d6-c9f5487c8f22",
        "papermill": {
          "duration": 0.0201,
          "end_time": "2023-10-02T22:31:06.553388",
          "exception": false,
          "start_time": "2023-10-02T22:31:06.533288",
          "status": "completed"
        },
        "tags": []
      },
      "outputs": [
        {
          "data": {
            "text/plain": [
              "Revenue\n",
              "Unknown / Non-Applicable            245\n",
              "$10+ billion (USD)                  135\n",
              "$100 to $500 million (USD)           99\n",
              "$1 to $2 billion (USD)               65\n",
              "$500 million to $1 billion (USD)     61\n",
              "$25 to $50 million (USD)             54\n",
              "$50 to $100 million (USD)            47\n",
              "$2 to $5 billion (USD)               43\n",
              "$10 to $25 million (USD)             39\n",
              "$5 to $10 billion (USD)              18\n",
              "$5 to $10 million (USD)              16\n",
              "$1 to $5 million (USD)               15\n",
              "Less than $1 million (USD)            2\n",
              "Name: count, dtype: int64"
            ]
          },
          "execution_count": 100,
          "metadata": {},
          "output_type": "execute_result"
        }
      ],
      "source": [
        "data2['Revenue'].value_counts()"
      ]
    },
    {
      "cell_type": "markdown",
      "id": "UgVm22pySjSU",
      "metadata": {
        "id": "UgVm22pySjSU"
      },
      "source": [
        "I will drop `Revenue` since most of its values are `Unknown / Non-Applicable`."
      ]
    },
    {
      "cell_type": "code",
      "execution_count": 101,
      "id": "euaJMC4wSwgy",
      "metadata": {
        "id": "euaJMC4wSwgy"
      },
      "outputs": [],
      "source": [
        "data2.drop(columns=\"Revenue\" ,inplace=True)"
      ]
    },
    {
      "cell_type": "markdown",
      "id": "YHf3jbEtML9D",
      "metadata": {
        "id": "YHf3jbEtML9D"
      },
      "source": [
        "---"
      ]
    },
    {
      "cell_type": "markdown",
      "id": "2ymDYZbITt3k",
      "metadata": {
        "id": "2ymDYZbITt3k"
      },
      "source": [
        "### **Competitors**"
      ]
    },
    {
      "cell_type": "markdown",
      "id": "0o03YmdcUIMM",
      "metadata": {
        "id": "0o03YmdcUIMM"
      },
      "source": [
        "I will drop `Competitors` since it is not practical to write each competitor company name in the UI."
      ]
    },
    {
      "cell_type": "code",
      "execution_count": 102,
      "id": "5d30b9ff",
      "metadata": {
        "execution": {
          "iopub.execute_input": "2023-10-02T22:31:06.595580Z",
          "iopub.status.busy": "2023-10-02T22:31:06.595178Z",
          "iopub.status.idle": "2023-10-02T22:31:06.601709Z",
          "shell.execute_reply": "2023-10-02T22:31:06.600712Z"
        },
        "id": "5d30b9ff",
        "papermill": {
          "duration": 0.020398,
          "end_time": "2023-10-02T22:31:06.603512",
          "exception": false,
          "start_time": "2023-10-02T22:31:06.583114",
          "status": "completed"
        },
        "tags": []
      },
      "outputs": [],
      "source": [
        "data2.drop(columns=\"Competitors\" ,inplace=True)"
      ]
    },
    {
      "cell_type": "markdown",
      "id": "sM7WCGMBUfdT",
      "metadata": {
        "id": "sM7WCGMBUfdT"
      },
      "source": [
        "---"
      ]
    },
    {
      "cell_type": "markdown",
      "id": "6ur0GCh2Umu8",
      "metadata": {
        "id": "6ur0GCh2Umu8"
      },
      "source": [
        "### **Company's Location**"
      ]
    },
    {
      "cell_type": "markdown",
      "id": "620fb348",
      "metadata": {
        "id": "620fb348",
        "papermill": {
          "duration": 0.010219,
          "end_time": "2023-10-02T22:31:06.623878",
          "exception": false,
          "start_time": "2023-10-02T22:31:06.613659",
          "status": "completed"
        },
        "tags": []
      },
      "source": [
        "- What are the top 5 locations with the most job listings?\n"
      ]
    },
    {
      "cell_type": "code",
      "execution_count": 103,
      "id": "s3j9-HrnUxRs",
      "metadata": {
        "colab": {
          "base_uri": "https://localhost:8080/"
        },
        "id": "s3j9-HrnUxRs",
        "outputId": "02779ab3-dbba-415c-9f49-ae5926bd05d5"
      },
      "outputs": [
        {
          "name": "stdout",
          "output_type": "stream",
          "text": [
            "Location\n",
            "New York, NY                         64\n",
            "San Francisco, CA                    62\n",
            "Cambridge, MA                        50\n",
            "Chicago, IL                          36\n",
            "Boston, MA                           23\n",
            "South San Francisco, CA              18\n",
            "Pittsburgh, PA                       16\n",
            "San Jose, CA                         13\n",
            "Chantilly, VA                        13\n",
            "Rockville, MD                        11\n",
            "Austin, TX                           11\n",
            "Washington, DC                       10\n",
            "Herndon, VA                          10\n",
            "Richland, WA                         10\n",
            "Winston-Salem, NC                    10\n",
            "San Diego, CA                         9\n",
            "Indianapolis, IN                      9\n",
            "Mountain View, CA                     9\n",
            "Nashville, TN                         8\n",
            "Houston, TX                           8\n",
            "Rochester, NY                         7\n",
            "Denver, CO                            7\n",
            "Atlanta, GA                           7\n",
            "Huntsville, AL                        7\n",
            "Dallas, TX                            6\n",
            "Charlotte, NC                         6\n",
            "Phoenix, AZ                           6\n",
            "Philadelphia, PA                      5\n",
            "Cincinnati, OH                        5\n",
            "Springfield, MA                       5\n",
            "Palo Alto, CA                         5\n",
            "Milwaukee, WI                         5\n",
            "Seattle, WA                           5\n",
            "Fort Lee, NJ                          5\n",
            "Marlborough, MA                       5\n",
            "Alexandria, VA                        5\n",
            "Millville, DE                         4\n",
            "Carlsbad, CA                          4\n",
            "Omaha, NE                             4\n",
            "Durham, NC                            4\n",
            "Fort Belvoir, VA                      4\n",
            "Burbank, CA                           4\n",
            "Highland, CA                          4\n",
            "Owensboro, KY                         4\n",
            "Los Angeles, CA                       4\n",
            "Burleson, TX                          4\n",
            "Clearwater, FL                        4\n",
            "Georgia Southern, GA                  4\n",
            "Redlands, CA                          4\n",
            "Gaithersburg, MD                      4\n",
            "Scotts Valley, CA                     4\n",
            "Knoxville, TN                         4\n",
            "Novato, CA                            4\n",
            "Plano, TX                             4\n",
            "Silver Spring, MD                     3\n",
            "Vail, CO                              3\n",
            "Virginia                              3\n",
            "Waltham, MA                           3\n",
            "Salt Lake City, UT                    3\n",
            "Lenexa, KS                            3\n",
            "Tallahassee, FL                       3\n",
            "Annapolis Junction, MD                3\n",
            "Hartford, CT                          3\n",
            "San Antonio, TX                       3\n",
            "Tampa, FL                             3\n",
            "Orange, CA                            3\n",
            "Albuquerque, NM                       3\n",
            "McLean, VA                            3\n",
            "Saint Louis, MO                       3\n",
            "Baltimore, MD                         3\n",
            "Worcester, MA                         3\n",
            "Detroit, MI                           3\n",
            "Fremont, CA                           3\n",
            "Chandler, AZ                          3\n",
            "Bellevue, WA                          3\n",
            "Beavercreek, OH                       3\n",
            "Dulles, VA                            3\n",
            "Armonk, NY                            3\n",
            "Fort Lauderdale, FL                   3\n",
            "Marietta, GA                          3\n",
            "Lake Forest, IL                       3\n",
            "Valencia, CA                          3\n",
            "Quincy, MA                            3\n",
            "Hampton, VA                           3\n",
            "Richfield, OH                         3\n",
            "Natick, MA                            3\n",
            "Ithaca, NY                            3\n",
            "Plymouth Meeting, PA                  2\n",
            "Franklin, TN                          2\n",
            "Springfield, VA                       2\n",
            "Dublin, CA                            2\n",
            "Alameda, CA                           2\n",
            "Aliso Viejo, CA                       2\n",
            "Bedford, MA                           2\n",
            "Irvine, CA                            2\n",
            "Jersey City, NJ                       2\n",
            "Clovis, CA                            2\n",
            "Orlando, FL                           2\n",
            "Blue Bell, PA                         2\n",
            "Cedar Rapids, IA                      2\n",
            "Grand Rapids, MI                      2\n",
            "Westlake, OH                          2\n",
            "Lewes, DE                             2\n",
            "Green Bay, WI                         2\n",
            "West Palm Beach, FL                   2\n",
            "Newark, CA                            2\n",
            "Exton, PA                             2\n",
            "Fountain Valley, CA                   2\n",
            "Columbia, MO                          2\n",
            "Springfield, MO                       2\n",
            "San Rafael, CA                        2\n",
            "Woodbridge, NJ                        2\n",
            "Louisville, KY                        2\n",
            "Arlington, VA                         2\n",
            "Hamilton, NJ                          2\n",
            "Charlottesville, VA                   2\n",
            "Vancouver, WA                         2\n",
            "Minneapolis, MN                       2\n",
            "Santa Barbara, CA                     2\n",
            "New Jersey                            2\n",
            "Coraopolis, PA                        2\n",
            "Peoria, IL                            2\n",
            "Sunnyvale, CA                         2\n",
            "Groton, CT                            2\n",
            "Hillsboro, OR                         2\n",
            "Oregon                                2\n",
            "Reston, VA                            2\n",
            "Ipswich, MA                           2\n",
            "New Orleans, LA                       2\n",
            "Winter Park, FL                       2\n",
            "Ewing, NJ                             2\n",
            "Cupertino, CA                         2\n",
            "West Reading, PA                      2\n",
            "Dearborn, MI                          2\n",
            "Frederick, MD                         2\n",
            "Harrisburg, PA                        1\n",
            "Maryland Heights, MO                  1\n",
            "Laurel, MD                            1\n",
            "Long Beach, NY                        1\n",
            "Tempe, AZ                             1\n",
            "Tacoma, WA                            1\n",
            "Framingham, MA                        1\n",
            "Sandy, UT                             1\n",
            "Lincoln, RI                           1\n",
            "Kingdom, IL                           1\n",
            "Ann Arbor, MI                         1\n",
            "Longmont, CO                          1\n",
            "Allendale, NJ                         1\n",
            "Johns Creek, GA                       1\n",
            "Roanoke, VA                           1\n",
            "Carle Place, NY                       1\n",
            "Maryland                              1\n",
            "Bloomington, IL                       1\n",
            "Scottsdale, AZ                        1\n",
            "Birmingham, AL                        1\n",
            "Logan, UT                             1\n",
            "Glen Burnie, MD                       1\n",
            "Watertown, MA                         1\n",
            "Arvada, CO                            1\n",
            "Cambridge, MD                         1\n",
            "Newark, NJ                            1\n",
            "Miami, FL                             1\n",
            "Woburn, MA                            1\n",
            "Corvallis, OR                         1\n",
            "Juncos, PR                            1\n",
            "Holyoke, MA                           1\n",
            "Piscataway, NJ                        1\n",
            "Santa Clara, CA                       1\n",
            "Emeryville, CA                        1\n",
            "Southfield, MI                        1\n",
            "Landover, MD                          1\n",
            "Lincoln, NE                           1\n",
            "Raleigh, NC                           1\n",
            "Providence, RI                        1\n",
            "United States                         1\n",
            "Creve Coeur, MO                       1\n",
            "Ashburn, VA                           1\n",
            "Fort Worth, TX                        1\n",
            "Port Washington, NY                   1\n",
            "Hoboken, NJ                           1\n",
            "Portland, OR                          1\n",
            "Columbia, MD                          1\n",
            "Patuxent River, MD                    1\n",
            "Cherry Hill, NJ                       1\n",
            "Meridian, ID                          1\n",
            "Dayton, OH                            1\n",
            "San Mateo, CA                         1\n",
            "Sheboygan, WI                         1\n",
            "Aurora, CO                            1\n",
            "Chattanooga, TN                       1\n",
            "Milpitas, CA                          1\n",
            "Linthicum, MD                         1\n",
            "Oakland, CA                           1\n",
            "Bloomington, MN                       1\n",
            "Boise, ID                             1\n",
            "Oak Ridge, TN                         1\n",
            "Suitland, MD                          1\n",
            "Syracuse, NY                          1\n",
            "Matawan, NJ                           1\n",
            "Lyndhurst, NJ                         1\n",
            "Atlanta, IN                           1\n",
            "Bethesda, MD                          1\n",
            "Alabaster, AL                         1\n",
            "Portsmouth, VA                        1\n",
            "Mount Olive, NJ                       1\n",
            "Newton, MA                            1\n",
            "Santa Fe Springs, Los Angeles, CA     1\n",
            "Columbia, SC                          1\n",
            "Kansas City, MO                       1\n",
            "Red Bank, NJ                          1\n",
            "San Ramon, CA                         1\n",
            "Woodinville, WA                       1\n",
            "Burlington, MA                        1\n",
            "Pella, IA                             1\n",
            "Agoura Hills, CA                      1\n",
            "Michigan                              1\n",
            "Name: count, dtype: int64\n"
          ]
        }
      ],
      "source": [
        "with pd.option_context('display.max_rows', None):\n",
        "    print(data2['Location'].value_counts())"
      ]
    },
    {
      "cell_type": "markdown",
      "id": "MofYyvMBWbFN",
      "metadata": {
        "id": "MofYyvMBWbFN"
      },
      "source": [
        "I will drop the `Location` column since it is only for US, and will be hard to *Encode*."
      ]
    },
    {
      "cell_type": "code",
      "execution_count": 104,
      "id": "upWKSz41ud5_",
      "metadata": {
        "id": "upWKSz41ud5_"
      },
      "outputs": [],
      "source": [
        "data2.drop(columns=\"Location\" ,inplace=True)"
      ]
    },
    {
      "cell_type": "markdown",
      "id": "EVXNVPTSurCd",
      "metadata": {
        "id": "EVXNVPTSurCd"
      },
      "source": [
        "---"
      ]
    },
    {
      "cell_type": "markdown",
      "id": "IyIHQXJMbdac",
      "metadata": {
        "id": "IyIHQXJMbdac"
      },
      "source": [
        "### **Company's Name**"
      ]
    },
    {
      "cell_type": "markdown",
      "id": "g4r57cembgfX",
      "metadata": {
        "id": "g4r57cembgfX"
      },
      "source": [
        "I will drop it since it cant hold enough number of names to be trained on, and if I trained the model on it with this number of data, the model will get a low Evaluation."
      ]
    },
    {
      "cell_type": "code",
      "execution_count": 105,
      "id": "ujq7c05Qb4f5",
      "metadata": {
        "id": "ujq7c05Qb4f5"
      },
      "outputs": [],
      "source": [
        "data2.drop(columns=\"Company Name\" ,inplace=True)"
      ]
    },
    {
      "cell_type": "markdown",
      "id": "M5xHwaCqpAwQ",
      "metadata": {
        "id": "M5xHwaCqpAwQ"
      },
      "source": [
        "---"
      ]
    },
    {
      "cell_type": "markdown",
      "id": "RzBIS4u1pB-X",
      "metadata": {
        "id": "RzBIS4u1pB-X"
      },
      "source": [
        "### **Job Description**"
      ]
    },
    {
      "cell_type": "markdown",
      "id": "o5VnkypdpKc8",
      "metadata": {
        "id": "o5VnkypdpKc8"
      },
      "source": [
        "I will drop it since it cant hold enough number of text, and will not be helpful for the model."
      ]
    },
    {
      "cell_type": "code",
      "execution_count": 106,
      "id": "J5PVcptTpEUI",
      "metadata": {
        "id": "J5PVcptTpEUI"
      },
      "outputs": [],
      "source": [
        "data2.drop(columns=\"Job Description\" ,inplace=True)"
      ]
    },
    {
      "cell_type": "markdown",
      "id": "qaky9d09bbtY",
      "metadata": {
        "id": "qaky9d09bbtY"
      },
      "source": [
        "---"
      ]
    },
    {
      "cell_type": "markdown",
      "id": "IFnrChgiif4z",
      "metadata": {
        "id": "IFnrChgiif4z"
      },
      "source": [
        "### **Estimated Salary**"
      ]
    },
    {
      "cell_type": "code",
      "execution_count": 107,
      "id": "9Twhuqlrilaa",
      "metadata": {
        "colab": {
          "base_uri": "https://localhost:8080/"
        },
        "id": "9Twhuqlrilaa",
        "outputId": "15782fab-2ada-4259-badf-2b15760268b6"
      },
      "outputs": [
        {
          "name": "stdout",
          "output_type": "stream",
          "text": [
            "Salary Estimate\n",
            "-1                                           163\n",
            "$21-$34 Per Hour(Glassdoor est.)               6\n",
            "$86K-$143K (Glassdoor est.)                    6\n",
            "$54K-$115K (Glassdoor est.)                    6\n",
            "$49K-$113K (Glassdoor est.)                    6\n",
            "$76K-$142K (Glassdoor est.)                    5\n",
            "$74K-$124K (Glassdoor est.)                    5\n",
            "$107K-$173K (Glassdoor est.)                   5\n",
            "$81K-$167K (Glassdoor est.)                    5\n",
            "$42K-$86K (Glassdoor est.)                     4\n",
            "$40K-$68K (Glassdoor est.)                     4\n",
            "$63K-$105K (Glassdoor est.)                    4\n",
            "$61K-$109K (Glassdoor est.)                    4\n",
            "$56K-$95K (Glassdoor est.)                     4\n",
            "$69K-$127K (Glassdoor est.)                    4\n",
            "$110K-$175K (Glassdoor est.)                   4\n",
            "$68K-$139K (Glassdoor est.)                    4\n",
            "$18-$25 Per Hour(Glassdoor est.)               4\n",
            "$49K-$97K (Glassdoor est.)                     4\n",
            "$35K-$62K (Glassdoor est.)                     4\n",
            "$64K-$106K (Glassdoor est.)                    4\n",
            "$44K-$78K (Glassdoor est.)                     4\n",
            "$56K-$97K (Glassdoor est.)                     4\n",
            "$44K-$86K (Glassdoor est.)                     4\n",
            "$82K-$132K (Glassdoor est.)                    4\n",
            "$75K-$140K (Glassdoor est.)                    3\n",
            "$52K-$93K (Glassdoor est.)                     3\n",
            "$65K-$110K (Glassdoor est.)                    3\n",
            "$50K-$89K (Glassdoor est.)                     3\n",
            "$60K-$101K (Glassdoor est.)                    3\n",
            "$49K-$85K (Glassdoor est.)                     3\n",
            "$65K-$124K (Glassdoor est.)                    3\n",
            "$52K-$81K (Glassdoor est.)                     3\n",
            "$55K-$100K (Glassdoor est.)                    3\n",
            "$42K-$76K (Glassdoor est.)                     3\n",
            "$62K-$119K (Glassdoor est.)                    3\n",
            "$108K-$173K (Glassdoor est.)                   3\n",
            "$60K-$127K (Glassdoor est.)                    3\n",
            "$90K-$179K (Glassdoor est.)                    3\n",
            "$54K-$71K (Glassdoor est.)                     3\n",
            "$24-$39 Per Hour(Glassdoor est.)               3\n",
            "$109K-$200K (Glassdoor est.)                   3\n",
            "$87K-$158K (Glassdoor est.)                    3\n",
            "$56K-$91K (Glassdoor est.)                     3\n",
            "$61K-$119K (Glassdoor est.)                    3\n",
            "$50K-$110K (Glassdoor est.)                    3\n",
            "$44K-$96K (Glassdoor est.)                     3\n",
            "$45K-$78K (Glassdoor est.)                     3\n",
            "$43K-$98K (Glassdoor est.)                     3\n",
            "$80K-$155K (Glassdoor est.)                    3\n",
            "Employer Provided Salary:$25-$28 Per Hour      3\n",
            "$61K-$113K (Glassdoor est.)                    3\n",
            "$56K-$99K (Glassdoor est.)                     3\n",
            "$32K-$59K (Glassdoor est.)                     3\n",
            "$63K-$110K (Glassdoor est.)                    3\n",
            "$65K-$134K (Glassdoor est.)                    3\n",
            "$202K-$306K (Glassdoor est.)                   3\n",
            "$108K-$171K (Glassdoor est.)                   3\n",
            "$102K-$172K (Glassdoor est.)                   3\n",
            "$190K-$220K(Employer est.)                     3\n",
            "$97K-$160K (Glassdoor est.)                    3\n",
            "$113K-$196K (Glassdoor est.)                   3\n",
            "$59K-$116K (Glassdoor est.)                    3\n",
            "$138K-$224K (Glassdoor est.)                   3\n",
            "$71K-$129K (Glassdoor est.)                    2\n",
            "$65K-$96K (Glassdoor est.)                     2\n",
            "$53K-$96K (Glassdoor est.)                     2\n",
            "$100K-$173K (Glassdoor est.)                   2\n",
            "$81K-$133K (Glassdoor est.)                    2\n",
            "$100K-$166K (Glassdoor est.)                   2\n",
            "$31K-$72K (Glassdoor est.)                     2\n",
            "$100K-$190K (Glassdoor est.)                   2\n",
            "$43K-$80K (Glassdoor est.)                     2\n",
            "$17-$24 Per Hour(Glassdoor est.)               2\n",
            "$42K-$82K (Glassdoor est.)                     2\n",
            "$116K-$185K (Glassdoor est.)                   2\n",
            "$48K-$95K (Glassdoor est.)                     2\n",
            "$105K-$198K (Glassdoor est.)                   2\n",
            "$114K-$182K (Glassdoor est.)                   2\n",
            "$98K-$182K (Glassdoor est.)                    2\n",
            "$73K-$124K (Glassdoor est.)                    2\n",
            "$117K-$206K (Glassdoor est.)                   2\n",
            "$111K-$183K (Glassdoor est.)                   2\n",
            "$81K-$159K (Glassdoor est.)                    2\n",
            "$83K-$166K (Glassdoor est.)                    2\n",
            "$97K-$181K (Glassdoor est.)                    2\n",
            "$92K-$150K (Glassdoor est.)                    2\n",
            "$124K-$199K (Glassdoor est.)                   2\n",
            "$67K-$135K (Glassdoor est.)                    2\n",
            "$31K-$57K (Glassdoor est.)                     2\n",
            "$75K-$143K (Glassdoor est.)                    2\n",
            "$105K-$194K (Glassdoor est.)                   2\n",
            "$45K-$86K (Glassdoor est.)                     2\n",
            "$95K-$154K (Glassdoor est.)                    2\n",
            "$80K-$148K (Glassdoor est.)                    2\n",
            "$36K-$62K (Glassdoor est.)                     2\n",
            "$50K-$92K (Glassdoor est.)                     2\n",
            "$42K-$80K (Glassdoor est.)                     2\n",
            "$65K-$119K (Glassdoor est.)                    2\n",
            "$34K-$92K (Glassdoor est.)                     2\n",
            "$43K-$86K (Glassdoor est.)                     2\n",
            "$101K-$158K (Glassdoor est.)                   2\n",
            "$43K-$77K (Glassdoor est.)                     2\n",
            "$139K-$221K (Glassdoor est.)                   2\n",
            "$78K-$147K (Glassdoor est.)                    2\n",
            "$37K-$66K (Glassdoor est.)                     2\n",
            "$38K-$64K (Glassdoor est.)                     2\n",
            "$127K-$202K (Glassdoor est.)                   2\n",
            "$93K-$151K (Glassdoor est.)                    2\n",
            "$43K-$88K (Glassdoor est.)                     2\n",
            "$48K-$85K (Glassdoor est.)                     2\n",
            "$49K-$76K (Glassdoor est.)                     2\n",
            "$47K-$101K (Glassdoor est.)                    2\n",
            "$52K-$91K (Glassdoor est.)                     2\n",
            "$150K-$239K (Glassdoor est.)                   2\n",
            "$10-$17 Per Hour(Glassdoor est.)               2\n",
            "$21-$29 Per Hour(Glassdoor est.)               2\n",
            "$92K-$146K (Glassdoor est.)                    2\n",
            "$66K-$123K (Glassdoor est.)                    2\n",
            "$102K-$178K (Glassdoor est.)                   2\n",
            "$40K-$101K (Glassdoor est.)                    2\n",
            "$31K-$55K (Glassdoor est.)                     2\n",
            "$81K-$140K (Glassdoor est.)                    2\n",
            "$52K-$85K (Glassdoor est.)                     2\n",
            "$121K-$203K (Glassdoor est.)                   2\n",
            "$84K-$157K (Glassdoor est.)                    2\n",
            "$90K-$110K(Employer est.)                      2\n",
            "$81K-$134K (Glassdoor est.)                    2\n",
            "$97K-$180K (Glassdoor est.)                    2\n",
            "$132K-$211K (Glassdoor est.)                   2\n",
            "$43K-$82K (Glassdoor est.)                     2\n",
            "$52K-$101K (Glassdoor est.)                    2\n",
            "$109K-$177K (Glassdoor est.)                   2\n",
            "$37K-$100K (Glassdoor est.)                    2\n",
            "$83K-$137K (Glassdoor est.)                    2\n",
            "$85K-$140K (Glassdoor est.)                    2\n",
            "$93K-$149K (Glassdoor est.)                    2\n",
            "$72K-$120K (Glassdoor est.)                    2\n",
            "$75K-$124K (Glassdoor est.)                    2\n",
            "$86K-$139K (Glassdoor est.)                    2\n",
            "$120K-$160K (Glassdoor est.)                   2\n",
            "$86K-$137K (Glassdoor est.)                    2\n",
            "$73K-$119K (Glassdoor est.)                    2\n",
            "$64K-$111K (Glassdoor est.)                    2\n",
            "$118K-$189K (Glassdoor est.)                   2\n",
            "$83K-$144K (Glassdoor est.)                    2\n",
            "$106K-$172K (Glassdoor est.)                   2\n",
            "$58K-$111K (Glassdoor est.)                    2\n",
            "$72K-$133K (Glassdoor est.)                    2\n",
            "$61K-$126K (Glassdoor est.)                    2\n",
            "$61K-$110K (Glassdoor est.)                    2\n",
            "$110K-$174K (Glassdoor est.)                   2\n",
            "$110K-$150K(Employer est.)                     2\n",
            "$158K-$211K (Glassdoor est.)                   2\n",
            "$63K-$99K (Glassdoor est.)                     2\n",
            "$68K-$114K (Glassdoor est.)                    2\n",
            "$60K-$114K (Glassdoor est.)                    2\n",
            "$86K-$144K (Glassdoor est.)                    2\n",
            "$80K-$139K (Glassdoor est.)                    2\n",
            "$120K-$189K (Glassdoor est.)                   2\n",
            "$111K-$176K (Glassdoor est.)                   2\n",
            "$84K-$146K (Glassdoor est.)                    2\n",
            "$60K-$99K (Glassdoor est.)                     2\n",
            "$85K-$139K (Glassdoor est.)                    2\n",
            "$99K-$178K (Glassdoor est.)                    2\n",
            "$41K-$72K (Glassdoor est.)                     2\n",
            "$150K-$238K (Glassdoor est.)                   2\n",
            "$119K-$187K (Glassdoor est.)                   2\n",
            "$135K-$211K (Glassdoor est.)                   2\n",
            "$57K-$80K (Glassdoor est.)                     2\n",
            "$89K-$144K (Glassdoor est.)                    2\n",
            "$71K-$119K (Glassdoor est.)                    2\n",
            "$64K-$108K (Glassdoor est.)                    2\n",
            "$62K-$112K (Glassdoor est.)                    2\n",
            "$71K-$124K (Glassdoor est.)                    2\n",
            "$69K-$121K (Glassdoor est.)                    2\n",
            "$86K-$142K (Glassdoor est.)                    2\n",
            "$60K-$102K (Glassdoor est.)                    2\n",
            "$77K-$132K (Glassdoor est.)                    2\n",
            "$59K-$112K (Glassdoor est.)                    2\n",
            "$47K-$85K (Glassdoor est.)                     2\n",
            "$79K-$147K (Glassdoor est.)                    2\n",
            "$90K-$157K (Glassdoor est.)                    2\n",
            "$82K-$133K (Glassdoor est.)                    2\n",
            "$39K-$69K (Glassdoor est.)                     2\n",
            "$131K-$207K (Glassdoor est.)                   2\n",
            "$36K-$71K (Glassdoor est.)                     2\n",
            "$124K-$204K (Glassdoor est.)                   2\n",
            "$27K-$48K (Glassdoor est.)                     2\n",
            "$85K-$134K (Glassdoor est.)                    2\n",
            "$80K-$90K (Glassdoor est.)                     2\n",
            "$55K-$105K (Glassdoor est.)                    2\n",
            "$59K-$110K (Glassdoor est.)                    2\n",
            "$80K-$133K (Glassdoor est.)                    2\n",
            "$91K-$159K (Glassdoor est.)                    2\n",
            "$54K-$93K (Glassdoor est.)                     2\n",
            "$116K-$208K (Glassdoor est.)                   2\n",
            "$32K-$62K (Glassdoor est.)                     2\n",
            "$48K-$113K (Glassdoor est.)                    1\n",
            "$79K-$136K (Glassdoor est.)                    1\n",
            "$27-$47 Per Hour(Glassdoor est.)               1\n",
            "$80K-$142K (Glassdoor est.)                    1\n",
            "$68K-$125K (Glassdoor est.)                    1\n",
            "$39K-$67K (Glassdoor est.)                     1\n",
            "$71K-$135K (Glassdoor est.)                    1\n",
            "$61K-$123K (Glassdoor est.)                    1\n",
            "$87K-$141K (Glassdoor est.)                    1\n",
            "$72K-$121K (Glassdoor est.)                    1\n",
            "$51K-$88K (Glassdoor est.)                     1\n",
            "$101K-$141K (Glassdoor est.)                   1\n",
            "$32K-$57K (Glassdoor est.)                     1\n",
            "$81K-$132K (Glassdoor est.)                    1\n",
            "Employer Provided Salary:$120K-$140K           1\n",
            "$59K-$125K (Glassdoor est.)                    1\n",
            "$79K-$127K (Glassdoor est.)                    1\n",
            "$66K-$117K (Glassdoor est.)                    1\n",
            "$71K-$144K (Glassdoor est.)                    1\n",
            "$112K-$179K (Glassdoor est.)                   1\n",
            "$108K-$146K (Glassdoor est.)                   1\n",
            "$65K-$106K (Glassdoor est.)                    1\n",
            "$55K-$98K (Glassdoor est.)                     1\n",
            "$94K-$162K (Glassdoor est.)                    1\n",
            "$126K-$228K (Glassdoor est.)                   1\n",
            "$80K-$134K (Glassdoor est.)                    1\n",
            "$76K-$127K (Glassdoor est.)                    1\n",
            "$54K-$92K (Glassdoor est.)                     1\n",
            "$61K-$100K (Glassdoor est.)                    1\n",
            "$63K-$111K (Glassdoor est.)                    1\n",
            "$115K-$220K (Glassdoor est.)                   1\n",
            "$75K-$126K (Glassdoor est.)                    1\n",
            "$110K-$184K (Glassdoor est.)                   1\n",
            "$76K-$145K (Glassdoor est.)                    1\n",
            "$94K-$153K (Glassdoor est.)                    1\n",
            "$150K-$180K (Glassdoor est.)                   1\n",
            "$130K-$206K (Glassdoor est.)                   1\n",
            "$102K-$165K (Glassdoor est.)                   1\n",
            "$129K-$215K (Glassdoor est.)                   1\n",
            "$42K-$77K (Glassdoor est.)                     1\n",
            "$118K-$188K (Glassdoor est.)                   1\n",
            "$92K-$149K (Glassdoor est.)                    1\n",
            "$176K-$289K (Glassdoor est.)                   1\n",
            "$94K-$139K (Glassdoor est.)                    1\n",
            "$81K-$161K (Glassdoor est.)                    1\n",
            "$58K-$108K (Glassdoor est.)                    1\n",
            "$58K-$104K (Glassdoor est.)                    1\n",
            "$113K-$182K (Glassdoor est.)                   1\n",
            "$118K-$228K (Glassdoor est.)                   1\n",
            "$65K-$126K (Glassdoor est.)                    1\n",
            "$171K-$272K (Glassdoor est.)                   1\n",
            "$136K-$208K (Glassdoor est.)                   1\n",
            "$57K-$109K (Glassdoor est.)                    1\n",
            "$72K-$142K (Glassdoor est.)                    1\n",
            "$40K-$87K (Glassdoor est.)                     1\n",
            "$44K-$73K (Glassdoor est.)                     1\n",
            "$84K-$153K (Glassdoor est.)                    1\n",
            "$42K-$79K (Glassdoor est.)                     1\n",
            "$90K-$153K (Glassdoor est.)                    1\n",
            "$67K-$127K (Glassdoor est.)                    1\n",
            "$69K-$119K (Glassdoor est.)                    1\n",
            "$33K-$61K (Glassdoor est.)                     1\n",
            "$75K-$127K (Glassdoor est.)                    1\n",
            "$53K-$91K (Glassdoor est.)                     1\n",
            "$83K-$133K (Glassdoor est.)                    1\n",
            "$52K-$89K (Glassdoor est.)                     1\n",
            "$38K-$85K (Glassdoor est.)                     1\n",
            "$34K-$62K (Glassdoor est.)                     1\n",
            "$117K-$231K (Glassdoor est.)                   1\n",
            "$79K-$134K (Glassdoor est.)                    1\n",
            "$55K-$116K (Glassdoor est.)                    1\n",
            "$72K-$123K (Glassdoor est.)                    1\n",
            "$40K-$73K (Glassdoor est.)                     1\n",
            "$102K-$164K (Glassdoor est.)                   1\n",
            "$89K-$153K (Glassdoor est.)                    1\n",
            "$200K-$275K(Employer est.)                     1\n",
            "$68K-$123K (Glassdoor est.)                    1\n",
            "$80K-$129K (Glassdoor est.)                    1\n",
            "$39K-$71K (Glassdoor est.)                     1\n",
            "$121K-$193K (Glassdoor est.)                   1\n",
            "$64K-$107K (Glassdoor est.)                    1\n",
            "$54K-$102K (Glassdoor est.)                    1\n",
            "$102K-$163K (Glassdoor est.)                   1\n",
            "$76K-$140K (Glassdoor est.)                    1\n",
            "$65K-$125K (Glassdoor est.)                    1\n",
            "$91K-$148K (Glassdoor est.)                    1\n",
            "$95K-$173K (Glassdoor est.)                    1\n",
            "$77K-$124K (Glassdoor est.)                    1\n",
            "$80K-$135K (Glassdoor est.)                    1\n",
            "$85K-$159K (Glassdoor est.)                    1\n",
            "$80K-$105K(Employer est.)                      1\n",
            "$43K-$81K (Glassdoor est.)                     1\n",
            "$29K-$50K (Glassdoor est.)                     1\n",
            "$31K-$65K (Glassdoor est.)                     1\n",
            "$39K-$68K (Glassdoor est.)                     1\n",
            "$84K-$136K (Glassdoor est.)                    1\n",
            "$20K-$39K (Glassdoor est.)                     1\n",
            "$38K-$84K (Glassdoor est.)                     1\n",
            "$126K-$201K (Glassdoor est.)                   1\n",
            "$46K-$85K (Glassdoor est.)                     1\n",
            "$102K-$190K (Glassdoor est.)                   1\n",
            "$67K-$137K (Glassdoor est.)                    1\n",
            "$81K-$130K (Glassdoor est.)                    1\n",
            "$34K-$61K (Glassdoor est.)                     1\n",
            "$77K-$135K (Glassdoor est.)                    1\n",
            "$115K-$180K (Glassdoor est.)                   1\n",
            "$74K-$138K (Glassdoor est.)                    1\n",
            "$64K-$112K (Glassdoor est.)                    1\n",
            "$52K-$113K (Glassdoor est.)                    1\n",
            "$56K-$117K (Glassdoor est.)                    1\n",
            "$100K-$160K (Glassdoor est.)                   1\n",
            "$41K-$95K (Glassdoor est.)                     1\n",
            "$88K-$148K (Glassdoor est.)                    1\n",
            "$65K-$130K (Glassdoor est.)                    1\n",
            "$139K-$220K (Glassdoor est.)                   1\n",
            "$50K-$102K (Glassdoor est.)                    1\n",
            "$74K-$122K (Glassdoor est.)                    1\n",
            "$99K-$157K (Glassdoor est.)                    1\n",
            "$79K-$222K (Glassdoor est.)                    1\n",
            "$57K-$118K (Glassdoor est.)                    1\n",
            "$86K-$141K (Glassdoor est.)                    1\n",
            "$94K-$154K (Glassdoor est.)                    1\n",
            "$37K-$76K (Glassdoor est.)                     1\n",
            "$26K-$55K (Glassdoor est.)                     1\n",
            "$61K-$118K (Glassdoor est.)                    1\n",
            "$112K-$182K (Glassdoor est.)                   1\n",
            "$95K-$161K (Glassdoor est.)                    1\n",
            "$33K-$72K (Glassdoor est.)                     1\n",
            "$37K-$63K (Glassdoor est.)                     1\n",
            "$67K-$119K (Glassdoor est.)                    1\n",
            "$72K-$117K (Glassdoor est.)                    1\n",
            "$78K-$126K (Glassdoor est.)                    1\n",
            "$63K-$112K (Glassdoor est.)                    1\n",
            "$45K-$82K (Glassdoor est.)                     1\n",
            "$70K-$122K (Glassdoor est.)                    1\n",
            "$70K-$132K (Glassdoor est.)                    1\n",
            "$54K-$101K (Glassdoor est.)                    1\n",
            "$68K-$112K (Glassdoor est.)                    1\n",
            "$42K-$74K (Glassdoor est.)                     1\n",
            "$76K-$126K (Glassdoor est.)                    1\n",
            "$113K-$223K (Glassdoor est.)                   1\n",
            "$108K-$176K (Glassdoor est.)                   1\n",
            "$130K-$208K (Glassdoor est.)                   1\n",
            "$37K-$68K (Glassdoor est.)                     1\n",
            "$52K-$99K (Glassdoor est.)                     1\n",
            "$105K-$173K (Glassdoor est.)                   1\n",
            "$71K-$134K (Glassdoor est.)                    1\n",
            "$39K-$82K (Glassdoor est.)                     1\n",
            "$88K-$162K (Glassdoor est.)                    1\n",
            "$55K-$99K (Glassdoor est.)                     1\n",
            "$67K-$117K (Glassdoor est.)                    1\n",
            "$116K-$209K (Glassdoor est.)                   1\n",
            "$38K-$82K (Glassdoor est.)                     1\n",
            "$74K-$126K (Glassdoor est.)                    1\n",
            "$127K-$199K (Glassdoor est.)                   1\n",
            "$61K-$106K (Glassdoor est.)                    1\n",
            "$15K-$16K(Employer est.)                       1\n",
            "$72K-$129K (Glassdoor est.)                    1\n",
            "$71K-$123K (Glassdoor est.)                    1\n",
            "Employer Provided Salary:$120K-$145K           1\n",
            "$80K-$120K (Glassdoor est.)                    1\n",
            "$80K-$130K (Glassdoor est.)                    1\n",
            "$71K-$136K (Glassdoor est.)                    1\n",
            "$71K-$204K (Glassdoor est.)                    1\n",
            "$75K-$125K (Glassdoor est.)                    1\n",
            "$77K-$136K (Glassdoor est.)                    1\n",
            "$74K-$123K (Glassdoor est.)                    1\n",
            "$65K-$148K (Glassdoor est.)                    1\n",
            "$66K-$112K (Glassdoor est.)                    1\n",
            "$76K-$125K (Glassdoor est.)                    1\n",
            "$15-$25 Per Hour(Glassdoor est.)               1\n",
            "$53K-$92K (Glassdoor est.)                     1\n",
            "$65K-$120K (Glassdoor est.)                    1\n",
            "$60K-$103K (Glassdoor est.)                    1\n",
            "$53K-$105K (Glassdoor est.)                    1\n",
            "$48K-$90K (Glassdoor est.)                     1\n",
            "$34K-$64K (Glassdoor est.)                     1\n",
            "$66K-$111K (Glassdoor est.)                    1\n",
            "$91K-$138K (Glassdoor est.)                    1\n",
            "$62K-$114K (Glassdoor est.)                    1\n",
            "$74K-$119K (Glassdoor est.)                    1\n",
            "$55K-$97K (Glassdoor est.)                     1\n",
            "$62K-$113K (Glassdoor est.)                    1\n",
            "Name: count, dtype: int64\n"
          ]
        }
      ],
      "source": [
        "with pd.option_context('display.max_rows', None):\n",
        "    print(data2['Salary Estimate'].value_counts())"
      ]
    },
    {
      "cell_type": "markdown",
      "id": "7-DGaip-nqzj",
      "metadata": {
        "id": "7-DGaip-nqzj"
      },
      "source": [
        "I will create a new DataFrame called `unknown_salaries` that will contain only the rows with the value '**-1**' in the column `Salary Estimate`, and then drop them from the main DataFrame.\n",
        "\n",
        "This `unknown_salaries` DataFrame may be used in other steps if needed."
      ]
    },
    {
      "cell_type": "code",
      "execution_count": 108,
      "id": "VR8XvVrUjA8K",
      "metadata": {
        "id": "VR8XvVrUjA8K"
      },
      "outputs": [],
      "source": [
        "# create new DataFrame for 'Salary Estimate' => '-1'\n",
        "unknown_salaries = data2[data2['Salary Estimate'] == '-1']\n",
        "\n",
        "# removing these rows from the main DataFrame\n",
        "data2 = data2[data2['Salary Estimate'] != '-1']"
      ]
    },
    {
      "cell_type": "markdown",
      "id": "jXyMk0oRrG_0",
      "metadata": {
        "id": "jXyMk0oRrG_0"
      },
      "source": [
        "I will parse and convert each salary range in the `Salary Estimate` column of `data2` to its average value."
      ]
    },
    {
      "cell_type": "code",
      "execution_count": 109,
      "id": "oBWnSlhqrFsr",
      "metadata": {
        "colab": {
          "base_uri": "https://localhost:8080/"
        },
        "id": "oBWnSlhqrFsr",
        "outputId": "e492fca5-514c-4199-b533-ce8e0ad0daab"
      },
      "outputs": [],
      "source": [
        "def average_salary(salary_str):\n",
        "    salary_str = salary_str.replace('Employer Provided Salary:', '').replace('(Glassdoor est.)', '').replace('(Employer est.)', '')\n",
        "\n",
        "    if 'Per Hour' in salary_str:\n",
        "        salary_str = salary_str.replace('Per Hour', '').replace('$', '')\n",
        "        if '-' in salary_str:\n",
        "            # Handle hourly range\n",
        "            lower, upper = salary_str.split('-')\n",
        "            lower_rate = float(lower) if lower.strip() else 0\n",
        "            upper_rate = float(upper) if upper.strip() else 0\n",
        "            hourly_rate = (lower_rate + upper_rate) / 2\n",
        "        else:\n",
        "            hourly_rate = float(salary_str)\n",
        "        return hourly_rate * 40 * 52  # Convert to annual salary\n",
        "    elif '-' in salary_str:\n",
        "        # Handle range salaries\n",
        "        salary_str = salary_str.replace('K', '000').replace('$', '')\n",
        "        lower, upper = salary_str.split('-')\n",
        "        lower_salary = float(lower) if lower.strip() else 0\n",
        "        upper_salary = float(upper) if upper.strip() else 0\n",
        "        return (lower_salary + upper_salary) / 2\n",
        "    else:\n",
        "        # Handle single value salary\n",
        "        salary_str = salary_str.replace('K', '000').replace('$', '')\n",
        "        return float(salary_str) if salary_str.strip() else 0\n",
        "\n",
        "\n",
        "\n",
        "data2['Salary Estimate'] = data2['Salary Estimate'].apply(average_salary)"
      ]
    },
    {
      "cell_type": "code",
      "execution_count": 110,
      "id": "Jn7AwfRHt2eL",
      "metadata": {
        "colab": {
          "base_uri": "https://localhost:8080/"
        },
        "id": "Jn7AwfRHt2eL",
        "outputId": "053b9fc6-3aec-4676-cf3d-3733a071b05d"
      },
      "outputs": [
        {
          "data": {
            "text/plain": [
              "count       676.000000\n",
              "mean     100677.514793\n",
              "std       37522.096598\n",
              "min       15500.000000\n",
              "25%       72875.000000\n",
              "50%       96000.000000\n",
              "75%      122500.000000\n",
              "max      254000.000000\n",
              "Name: Salary Estimate, dtype: float64"
            ]
          },
          "execution_count": 110,
          "metadata": {},
          "output_type": "execute_result"
        }
      ],
      "source": [
        "data2['Salary Estimate'].describe()"
      ]
    },
    {
      "cell_type": "markdown",
      "id": "QL-gxY7lieIs",
      "metadata": {
        "id": "QL-gxY7lieIs"
      },
      "source": [
        "---"
      ]
    },
    {
      "cell_type": "markdown",
      "id": "ZcMX2WtJn-Iq",
      "metadata": {
        "id": "ZcMX2WtJn-Iq"
      },
      "source": [
        "## **Encoding Categorical Features**"
      ]
    },
    {
      "cell_type": "code",
      "execution_count": 111,
      "id": "KP_BTVFSyOhg",
      "metadata": {
        "id": "KP_BTVFSyOhg"
      },
      "outputs": [],
      "source": [
        "from sklearn.preprocessing import OneHotEncoder, OrdinalEncoder"
      ]
    },
    {
      "cell_type": "markdown",
      "id": "fVvxY_KLsa-0",
      "metadata": {
        "id": "fVvxY_KLsa-0"
      },
      "source": [
        "### **OneHot Encoding (Dummies)**"
      ]
    },
    {
      "cell_type": "markdown",
      "id": "Stw2NU-ntzxV",
      "metadata": {
        "id": "Stw2NU-ntzxV"
      },
      "source": [
        "For all the categorical features, except `Size` feature."
      ]
    },
    {
      "cell_type": "code",
      "execution_count": 112,
      "id": "iuOTkJoYou3O",
      "metadata": {
        "id": "iuOTkJoYou3O"
      },
      "outputs": [],
      "source": [
        "one_hot_cols = ['Job Title', 'Type of ownership', 'Industry']\n",
        "one_hot_encoder = OneHotEncoder()\n",
        "one_hot_encoded = one_hot_encoder.fit_transform(data2[one_hot_cols]).toarray()\n",
        "\n",
        "one_hot_encoded_df = pd.DataFrame(one_hot_encoded, columns=one_hot_encoder.get_feature_names_out(one_hot_cols))"
      ]
    },
    {
      "cell_type": "markdown",
      "id": "PucAUydJskWH",
      "metadata": {
        "id": "PucAUydJskWH"
      },
      "source": [
        "### **Ordinal Encoding**"
      ]
    },
    {
      "cell_type": "markdown",
      "id": "hkS46ID9trK8",
      "metadata": {
        "id": "hkS46ID9trK8"
      },
      "source": [
        "Only for `Size` column, since the Salaries usually are higher in the companies that have more employees (Bigger Size)."
      ]
    },
    {
      "cell_type": "code",
      "execution_count": 113,
      "id": "GW4G-FErppzD",
      "metadata": {
        "id": "GW4G-FErppzD"
      },
      "outputs": [],
      "source": [
        "size_mapping = {\n",
        "    '1 to 50 employees': 0,\n",
        "    '51 to 200 employees': 1,\n",
        "    '201 to 500 employees': 2,\n",
        "    '501 to 1000 employees': 3,\n",
        "    '1001 to 5000 employees': 4,\n",
        "    '5001 to 10000 employees': 5,\n",
        "    '10000+ employees': 6\n",
        "}\n",
        "ordinal_encoder = OrdinalEncoder(categories=[list(size_mapping.values())])\n",
        "data2['Size'] = data2['Size'].map(size_mapping)\n",
        "data2['Size'] = ordinal_encoder.fit_transform(data2[['Size']])"
      ]
    },
    {
      "cell_type": "markdown",
      "id": "lTFRAVqtyYqp",
      "metadata": {
        "id": "lTFRAVqtyYqp"
      },
      "source": [
        "Now, combine all the data inside `df` DataFrame."
      ]
    },
    {
      "cell_type": "code",
      "execution_count": 114,
      "id": "hdARN1-oyXvy",
      "metadata": {
        "id": "hdARN1-oyXvy"
      },
      "outputs": [],
      "source": [
        "numerical_cols = ['Salary Estimate', 'Rating', 'Founded']\n",
        "\n",
        "data2_reset = data2.reset_index(drop=True)\n",
        "one_hot_encoded_df_reset = one_hot_encoded_df.reset_index(drop=True)\n",
        "\n",
        "df = pd.concat([data2_reset[numerical_cols], data2_reset[['Size']], one_hot_encoded_df_reset], axis=1)"
      ]
    },
    {
      "cell_type": "markdown",
      "id": "4ZhSeeuwz9j8",
      "metadata": {
        "id": "4ZhSeeuwz9j8"
      },
      "source": [
        "---"
      ]
    },
    {
      "cell_type": "markdown",
      "id": "U82R76Cvi9dA",
      "metadata": {
        "id": "U82R76Cvi9dA"
      },
      "source": [
        "# **Machine Learning Model**"
      ]
    },
    {
      "cell_type": "markdown",
      "id": "_iw6OpekjXGi",
      "metadata": {
        "id": "_iw6OpekjXGi"
      },
      "source": [
        "## **Splitting the Data**"
      ]
    },
    {
      "cell_type": "code",
      "execution_count": 115,
      "id": "fwLA4A0vzcVu",
      "metadata": {
        "id": "fwLA4A0vzcVu"
      },
      "outputs": [],
      "source": [
        "from sklearn.model_selection import train_test_split\n",
        "\n",
        "X = df.drop('Salary Estimate', axis=1)\n",
        "y = df['Salary Estimate']\n",
        "\n",
        "X_train, X_test, y_train, y_test = train_test_split(X, y, test_size=0.2, random_state=42)"
      ]
    },
    {
      "cell_type": "markdown",
      "id": "nqc1INm_kllh",
      "metadata": {
        "id": "nqc1INm_kllh"
      },
      "source": [
        "## **Training Machine Learning Models**"
      ]
    },
    {
      "cell_type": "markdown",
      "id": "zgrVE5ILpWyC",
      "metadata": {
        "id": "zgrVE5ILpWyC"
      },
      "source": [
        "### **Linear Regression**"
      ]
    },
    {
      "cell_type": "code",
      "execution_count": 116,
      "id": "nJwS56362p6z",
      "metadata": {
        "colab": {
          "base_uri": "https://localhost:8080/"
        },
        "id": "nJwS56362p6z",
        "outputId": "7a2b2bce-8e13-4b8f-fff2-99a2e588726d"
      },
      "outputs": [
        {
          "data": {
            "text/plain": [
              "(163, 7)"
            ]
          },
          "execution_count": 116,
          "metadata": {},
          "output_type": "execute_result"
        }
      ],
      "source": [
        "unknown_salaries.shape"
      ]
    },
    {
      "cell_type": "code",
      "execution_count": 117,
      "id": "EQQHpDWLkjkB",
      "metadata": {
        "colab": {
          "base_uri": "https://localhost:8080/"
        },
        "id": "EQQHpDWLkjkB",
        "outputId": "af560bb1-2f5d-4cba-f6a6-36699c0a8c91"
      },
      "outputs": [
        {
          "name": "stdout",
          "output_type": "stream",
          "text": [
            "Linear Regression:\n",
            "MSE: 910710504.2466048, RMSE: 30177.98045341346, R²: 0.34974324582903404\n"
          ]
        }
      ],
      "source": [
        "from sklearn.linear_model import LinearRegression\n",
        "from sklearn.metrics import mean_squared_error, r2_score\n",
        "\n",
        "lr_model = LinearRegression()\n",
        "lr_model.fit(X_train, y_train)\n",
        "\n",
        "lr_predictions = lr_model.predict(X_test)\n",
        "lr_mse = mean_squared_error(y_test, lr_predictions)\n",
        "lr_rmse = np.sqrt(lr_mse)\n",
        "lr_r2 = r2_score(y_test, lr_predictions)\n",
        "\n",
        "print(\"Linear Regression:\")\n",
        "print(f\"MSE: {lr_mse}, RMSE: {lr_rmse}, R²: {lr_r2}\")\n"
      ]
    },
    {
      "cell_type": "markdown",
      "id": "hiqtJfw7phuC",
      "metadata": {
        "id": "hiqtJfw7phuC"
      },
      "source": [
        "### **SVM**"
      ]
    },
    {
      "cell_type": "code",
      "execution_count": 118,
      "id": "gFOguOCzpisQ",
      "metadata": {
        "colab": {
          "base_uri": "https://localhost:8080/"
        },
        "id": "gFOguOCzpisQ",
        "outputId": "dcad4c7c-c394-41e1-c394-dad020f8b4b1"
      },
      "outputs": [
        {
          "name": "stdout",
          "output_type": "stream",
          "text": [
            "SVM Regressor:\n",
            "MSE: 1473204600.8144517, RMSE: 38382.347515680325, R²: -0.05188337840445012\n"
          ]
        }
      ],
      "source": [
        "from sklearn.svm import SVR\n",
        "\n",
        "svm_model = SVR()\n",
        "svm_model.fit(X_train, y_train)\n",
        "\n",
        "svm_predictions = svm_model.predict(X_test)\n",
        "svm_mse = mean_squared_error(y_test, svm_predictions)\n",
        "svm_rmse = np.sqrt(svm_mse)\n",
        "svm_r2 = r2_score(y_test, svm_predictions)\n",
        "\n",
        "print(\"SVM Regressor:\")\n",
        "print(f\"MSE: {svm_mse}, RMSE: {svm_rmse}, R²: {svm_r2}\")\n"
      ]
    },
    {
      "cell_type": "markdown",
      "id": "GZXbksBdpluT",
      "metadata": {
        "id": "GZXbksBdpluT"
      },
      "source": [
        "### **XGBoost Regressor**"
      ]
    },
    {
      "cell_type": "code",
      "execution_count": 119,
      "id": "gbuzQDwQpo_O",
      "metadata": {
        "colab": {
          "base_uri": "https://localhost:8080/"
        },
        "id": "gbuzQDwQpo_O",
        "outputId": "7f366b36-07f7-4cff-8c6f-a9331fec20b6"
      },
      "outputs": [
        {
          "name": "stdout",
          "output_type": "stream",
          "text": [
            "XGBoost Regressor:\n",
            "MSE: 539502313.740047, RMSE: 23227.189105443795, R²: 0.6147897473846042\n"
          ]
        }
      ],
      "source": [
        "from xgboost import XGBRegressor\n",
        "\n",
        "xgb_model = XGBRegressor(n_estimators=400, max_depth=5)\n",
        "xgb_model.fit(X_train, y_train)\n",
        "\n",
        "xgb_predictions = xgb_model.predict(X_test)\n",
        "xgb_mse = mean_squared_error(y_test, xgb_predictions)\n",
        "xgb_rmse = np.sqrt(xgb_mse)\n",
        "xgb_r2 = r2_score(y_test, xgb_predictions)\n",
        "\n",
        "print(\"XGBoost Regressor:\")\n",
        "print(f\"MSE: {xgb_mse}, RMSE: {xgb_rmse}, R²: {xgb_r2}\")\n"
      ]
    },
    {
      "cell_type": "markdown",
      "id": "JJKtpp5Sprdz",
      "metadata": {
        "id": "JJKtpp5Sprdz"
      },
      "source": [
        "### **Random Forest**"
      ]
    },
    {
      "cell_type": "code",
      "execution_count": 120,
      "id": "M_nmjAc-ptlw",
      "metadata": {
        "colab": {
          "base_uri": "https://localhost:8080/"
        },
        "id": "M_nmjAc-ptlw",
        "outputId": "a2414156-11e7-427d-9439-1eb0ca2ffdfe"
      },
      "outputs": [
        {
          "name": "stdout",
          "output_type": "stream",
          "text": [
            "Random Forest:\n",
            "MSE: 566970318.4832095, RMSE: 23811.138538154984, R²: 0.595177306851026\n"
          ]
        }
      ],
      "source": [
        "from sklearn.ensemble import RandomForestRegressor\n",
        "\n",
        "rf_model = RandomForestRegressor(n_estimators=400)\n",
        "rf_model.fit(X_train, y_train)\n",
        "\n",
        "rf_predictions = rf_model.predict(X_test)\n",
        "rf_mse = mean_squared_error(y_test, rf_predictions)\n",
        "rf_rmse = np.sqrt(rf_mse)\n",
        "rf_r2 = r2_score(y_test, rf_predictions)\n",
        "\n",
        "print(\"Random Forest:\")\n",
        "print(f\"MSE: {rf_mse}, RMSE: {rf_rmse}, R²: {rf_r2}\")\n"
      ]
    },
    {
      "cell_type": "markdown",
      "id": "gL5GUQv98f6N",
      "metadata": {
        "id": "gL5GUQv98f6N"
      },
      "source": [
        "---"
      ]
    },
    {
      "cell_type": "markdown",
      "id": "Hf42wHi08hhl",
      "metadata": {
        "id": "Hf42wHi08hhl"
      },
      "source": [
        "## **Evaluation**"
      ]
    },
    {
      "cell_type": "markdown",
      "id": "583VbqFq8nOk",
      "metadata": {
        "id": "583VbqFq8nOk"
      },
      "source": [
        "I got `XGBoost Regressor` as the best model according to the evaluation metrics above. I still want to evaluate this model in another way, which is using the ***`Confidence Interval`***."
      ]
    },
    {
      "cell_type": "code",
      "execution_count": 121,
      "id": "w1mTBXQV67eT",
      "metadata": {
        "colab": {
          "base_uri": "https://localhost:8080/"
        },
        "id": "w1mTBXQV67eT",
        "outputId": "a6f36fb2-6633-4ee0-87b9-f173a62a7853"
      },
      "outputs": [
        {
          "name": "stdout",
          "output_type": "stream",
          "text": [
            "Accuracy with 7500 confidence interval: 0.60\n",
            "Accuracy with 8000 confidence interval: 0.63\n",
            "Accuracy with 10000 confidence interval: 0.65\n"
          ]
        }
      ],
      "source": [
        "def calculate_accuracy_with_confidence_interval(predictions, actual_values, confidence_interval):\n",
        "    correct_count = 0\n",
        "    for pred, actual in zip(predictions, actual_values):\n",
        "        lower_bound = actual - confidence_interval\n",
        "        upper_bound = actual + confidence_interval\n",
        "        if lower_bound <= pred <= upper_bound:\n",
        "            correct_count += 1\n",
        "    accuracy = correct_count / len(predictions)\n",
        "    return accuracy\n",
        "\n",
        "accuracy_7500 = calculate_accuracy_with_confidence_interval(xgb_predictions, y_test, 7500)\n",
        "accuracy_8000 = calculate_accuracy_with_confidence_interval(xgb_predictions, y_test, 8000)\n",
        "accuracy_10000 = calculate_accuracy_with_confidence_interval(xgb_predictions, y_test, 10000)\n",
        "\n",
        "\n",
        "print(f\"Accuracy with 7500 confidence interval: {accuracy_7500:.2f}\")\n",
        "print(f\"Accuracy with 8000 confidence interval: {accuracy_8000:.2f}\")\n",
        "print(f\"Accuracy with 10000 confidence interval: {accuracy_10000:.2f}\")"
      ]
    },
    {
      "cell_type": "markdown",
      "id": "DPfWAH4DDpc-",
      "metadata": {
        "id": "DPfWAH4DDpc-"
      },
      "source": [
        "Not the best Accuracy, but It is fine according to the lake of data."
      ]
    },
    {
      "cell_type": "markdown",
      "id": "zAWI9uRJDoA9",
      "metadata": {
        "id": "zAWI9uRJDoA9"
      },
      "source": [
        "---"
      ]
    },
    {
      "cell_type": "markdown",
      "id": "4l5meDj9GcYu",
      "metadata": {
        "id": "4l5meDj9GcYu"
      },
      "source": [
        "## **Save the Model with Pickle**"
      ]
    },
    {
      "cell_type": "code",
      "execution_count": 122,
      "id": "GmZzAntQBBIa",
      "metadata": {
        "colab": {
          "base_uri": "https://localhost:8080/"
        },
        "id": "GmZzAntQBBIa",
        "outputId": "f5ddd04c-2b2f-4f2e-c621-8e179559a7f7"
      },
      "outputs": [
        {
          "name": "stdout",
          "output_type": "stream",
          "text": [
            "Model saved successfully!\n"
          ]
        }
      ],
      "source": [
        "import pickle\n",
        "\n",
        "with open('xgboost_regressor_model.pkl', 'wb') as file:\n",
        "    pickle.dump(xgb_model, file)\n",
        "\n",
        "print(\"Model saved successfully!\")"
      ]
    },
    {
      "cell_type": "markdown",
      "id": "RPjzc6wPHXmt",
      "metadata": {
        "id": "RPjzc6wPHXmt"
      },
      "source": [
        "---"
      ]
    }
  ],
  "metadata": {
    "colab": {
      "provenance": []
    },
    "kernelspec": {
      "display_name": "Python 3",
      "language": "python",
      "name": "python3"
    },
    "language_info": {
      "codemirror_mode": {
        "name": "ipython",
        "version": 3
      },
      "file_extension": ".py",
      "mimetype": "text/x-python",
      "name": "python",
      "nbconvert_exporter": "python",
      "pygments_lexer": "ipython3",
      "version": "3.10.13"
    },
    "papermill": {
      "default_parameters": {},
      "duration": 11.007402,
      "end_time": "2023-10-02T22:31:13.209788",
      "environment_variables": {},
      "exception": null,
      "input_path": "__notebook__.ipynb",
      "output_path": "__notebook__.ipynb",
      "parameters": {},
      "start_time": "2023-10-02T22:31:02.202386",
      "version": "2.4.0"
    }
  },
  "nbformat": 4,
  "nbformat_minor": 5
}
